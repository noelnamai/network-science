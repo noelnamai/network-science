{
 "cells": [
  {
   "cell_type": "code",
   "execution_count": 148,
   "metadata": {
    "collapsed": false
   },
   "outputs": [],
   "source": [
    "%matplotlib inline\n",
    "\n",
    "import re\n",
    "import json\n",
    "import time\n",
    "import random\n",
    "import os.path\n",
    "import requests\n",
    "import warnings\n",
    "import itertools\n",
    "import urllib.parse\n",
    "import urllib.request\n",
    "\n",
    "import numpy as np\n",
    "import pandas as pd\n",
    "import networkx as nx\n",
    "import matplotlib.pyplot as plt\n",
    "\n",
    "from datetime import datetime\n",
    "\n",
    "plt.rcParams[\"figure.figsize\"] = (15.0, 7.5)"
   ]
  },
  {
   "cell_type": "code",
   "execution_count": 149,
   "metadata": {
    "collapsed": false
   },
   "outputs": [
    {
     "data": {
      "text/html": [
       "<div>\n",
       "<table border=\"1\" class=\"dataframe\">\n",
       "  <thead>\n",
       "    <tr style=\"text-align: right;\">\n",
       "      <th></th>\n",
       "      <th>symbol</th>\n",
       "      <th>sector</th>\n",
       "      <th>industry</th>\n",
       "    </tr>\n",
       "    <tr>\n",
       "      <th>name</th>\n",
       "      <th></th>\n",
       "      <th></th>\n",
       "      <th></th>\n",
       "    </tr>\n",
       "  </thead>\n",
       "  <tbody>\n",
       "    <tr>\n",
       "      <th>AAC Holdings</th>\n",
       "      <td>AAC</td>\n",
       "      <td>Conglomerates</td>\n",
       "      <td>Conglomerates</td>\n",
       "    </tr>\n",
       "    <tr>\n",
       "      <th>Almaden Minerals Ltd.</th>\n",
       "      <td>AAU</td>\n",
       "      <td>Basic Materials</td>\n",
       "      <td>Industrial Metals &amp; Minerals</td>\n",
       "    </tr>\n",
       "    <tr>\n",
       "      <th>American Biltrite Inc.</th>\n",
       "      <td>ABL</td>\n",
       "      <td>Consumer Goods</td>\n",
       "      <td>Rubber &amp; Plastics</td>\n",
       "    </tr>\n",
       "    <tr>\n",
       "      <th>Acme United Corp.</th>\n",
       "      <td>ACU</td>\n",
       "      <td>Consumer Goods</td>\n",
       "      <td>Office Supplies</td>\n",
       "    </tr>\n",
       "    <tr>\n",
       "      <th>AeroCentury Corp.</th>\n",
       "      <td>ACY</td>\n",
       "      <td>Services</td>\n",
       "      <td>Rental &amp; Leasing Services</td>\n",
       "    </tr>\n",
       "  </tbody>\n",
       "</table>\n",
       "</div>"
      ],
      "text/plain": [
       "                       symbol           sector                      industry\n",
       "name                                                                        \n",
       "AAC Holdings              AAC    Conglomerates                 Conglomerates\n",
       "Almaden Minerals Ltd.     AAU  Basic Materials  Industrial Metals & Minerals\n",
       "American Biltrite Inc.    ABL   Consumer Goods             Rubber & Plastics\n",
       "Acme United Corp.         ACU   Consumer Goods               Office Supplies\n",
       "AeroCentury Corp.         ACY         Services     Rental & Leasing Services"
      ]
     },
     "execution_count": 149,
     "metadata": {},
     "output_type": "execute_result"
    }
   ],
   "source": [
    "#Read in the symbol title dataframe\n",
    "symbol_title = pd.read_csv(\"symbol_title.csv\", index_col=2, sep=\",\")\n",
    "symbol_title = symbol_title[[\"symbol\",\"sector\",\"industry\"]]\n",
    "symbol_title.dropna(inplace=True)\n",
    "symbol_title.head()"
   ]
  },
  {
   "cell_type": "code",
   "execution_count": 150,
   "metadata": {
    "collapsed": false
   },
   "outputs": [],
   "source": [
    "security = pd.read_csv(\"security.csv\", encoding=\"utf8\")"
   ]
  },
  {
   "cell_type": "code",
   "execution_count": 151,
   "metadata": {
    "collapsed": true
   },
   "outputs": [],
   "source": [
    "#Allows an application to request user authorization. \n",
    "def oauth_authorize():    \n",
    "    url = \"https://api.stocktwits.com/api/2/oauth/authorize\"                \n",
    "    params = urllib.parse.urlencode({\"client_id\": security[\"client_id\"][0], \n",
    "                                     \"response_type\": \"token\",\n",
    "                                     \"redirect_uri\": \"https://sites.google.com/site/noelnamai/\",\n",
    "                                     \"scope\": \"read,watch_lists,publish_messages,publish_watch_lists,follow_users,follow_stocks\"\n",
    "                                    })    \n",
    "    oauth = urllib.request.urlopen(url, params.encode(\"UTF-8\"))    \n",
    "    return oauth"
   ]
  },
  {
   "cell_type": "code",
   "execution_count": 152,
   "metadata": {
    "collapsed": false
   },
   "outputs": [],
   "source": [
    "oauth = oauth_authorize()"
   ]
  },
  {
   "cell_type": "code",
   "execution_count": 153,
   "metadata": {
    "collapsed": false
   },
   "outputs": [],
   "source": [
    "#Returns the most recent 30 messages for the specified symbol. Includes symbol object in response.\n",
    "def stream_symbol(symbol):\n",
    "    url = \"https://api.stocktwits.com/api/2/streams/symbol/\" + str(symbol) + \".json\"\n",
    "    try:\n",
    "        content = requests.get(url).json()\n",
    "    except Exception as error:\n",
    "        raise Exception(\"Method: stream_symbol \" + \"Error: \" + error)\n",
    "    return content"
   ]
  },
  {
   "cell_type": "code",
   "execution_count": 154,
   "metadata": {
    "collapsed": false
   },
   "outputs": [],
   "source": [
    "#Returns the most recent 30 messages with trending symbols in the last 5 minutes.\n",
    "def stream_trending():             \n",
    "    url = \"https://api.stocktwits.com/api/2/streams/trending.json\"\n",
    "    payload = {\"access_token\": security[\"access_token\"][0]}\n",
    "    try:    \n",
    "        content = requests.get(url, params=payload).json()\n",
    "    except Exception as error:\n",
    "        raise Exception(\"Method: stream_trending \" + \"Error: \" + error) \n",
    "    return content"
   ]
  },
  {
   "cell_type": "code",
   "execution_count": 155,
   "metadata": {
    "collapsed": false
   },
   "outputs": [],
   "source": [
    "#Returns the most recent 30 symbols in the last 5 minutes.\n",
    "def get_symbols():\n",
    "    symbols = []\n",
    "    data = stream_trending()\n",
    "    code = data[\"response\"][\"status\"] \n",
    "    for tweet in data[\"messages\"]:\n",
    "        for symbol in tweet[\"symbols\"]:\n",
    "            symbols.append(symbol[\"symbol\"])\n",
    "    return code, symbols"
   ]
  },
  {
   "cell_type": "code",
   "execution_count": 156,
   "metadata": {
    "collapsed": false
   },
   "outputs": [],
   "source": [
    "#Creates a dataframe from JSON data returned by the API.\n",
    "def create_dataframe(data): \n",
    "    response = [] \n",
    "    code = data[\"response\"][\"status\"]                                  \n",
    "    if code == 200: \n",
    "        for tweet in data[\"messages\"]:\n",
    "            for symbol in tweet[\"symbols\"]:\n",
    "                utc = tweet[\"created_at\"]\n",
    "                row = {\"symbol\": symbol[\"symbol\"],\n",
    "                       \"title\": symbol[\"title\"],\n",
    "                       \"tweet_id\": tweet[\"id\"],\n",
    "                       \"text\": tweet[\"body\"],\n",
    "                       \"date\": datetime.strptime(utc, \"%Y-%m-%dT%H:%M:%SZ\").date(),\n",
    "                       \"time\": datetime.strptime(utc, \"%Y-%m-%dT%H:%M:%SZ\").time(),\n",
    "                       \"name\": tweet[\"user\"][\"name\"],\n",
    "                       \"user_id\": str(tweet[\"user\"][\"id\"]),\n",
    "                       \"user_name\": str(tweet[\"user\"][\"username\"])}\n",
    "                response.append(row) \n",
    "    else: \n",
    "        raise Exception(\"Method: create_dataframe \" + \"Error: \" + str(data[\"errors\"][0][\"message\"]))\n",
    "    df = pd.DataFrame(response)\n",
    "    return code, df"
   ]
  },
  {
   "cell_type": "code",
   "execution_count": 157,
   "metadata": {
    "collapsed": true
   },
   "outputs": [],
   "source": [
    "#Clean the data frame and fill in the missing data\n",
    "def clean_dataframe(df):\n",
    "    df = df.drop_duplicates()    \n",
    "    df = df.dropna() \n",
    "    df[\"tweet_id\"] = df[\"tweet_id\"].astype(\"int\")\n",
    "    df.sort_values([\"tweet_id\",\"time\"], ascending=True, inplace=True)\n",
    "    df[\"index\"] = range(len(df))\n",
    "    df = df.set_index(\"index\")\n",
    "    return df"
   ]
  },
  {
   "cell_type": "code",
   "execution_count": 158,
   "metadata": {
    "collapsed": true
   },
   "outputs": [],
   "source": [
    "#Fill in the data \"sector\" and \"industry\" to the main dataframe.\n",
    "def fill_dataframe(x):   \n",
    "    symbol = list(set(x[\"symbol\"].values))[0]\n",
    "    sector = symbol_title[\"sector\"][symbol_title[\"symbol\"] == symbol].values\n",
    "    industry = symbol_title[\"industry\"][symbol_title[\"symbol\"] == symbol].values\n",
    "    x[\"sector\"] = sector[0] if len(sector) == 1 else np.nan\n",
    "    x[\"industry\"] = industry[0] if len(industry) == 1 else np.nan   \n",
    "    return x"
   ]
  },
  {
   "cell_type": "code",
   "execution_count": 159,
   "metadata": {
    "collapsed": false
   },
   "outputs": [],
   "source": [
    "#Read data frame. Creat a new one if non exists.\n",
    "#df = pd.DataFrame(columns=[\"date\",\"name\",\"symbol\",\"text\",\"time\",\"title\",\"tweet_id\",\"user_id\",\"user_name\"])\n",
    "df = pd.read_csv(\"stocktwits_df.csv\", encoding=\"utf8\")  \n",
    "\n",
    "#Get trending symbols and start building a dataframe from them.\n",
    "code, symbols = get_symbols()\n",
    "np.random.shuffle(symbols)\n",
    "for symbol in symbols:\n",
    "    data = stream_symbol(symbol)\n",
    "    code, df2 = create_dataframe(data)\n",
    "    df = df.append(df2) \n",
    "    df = clean_dataframe(df)    \n",
    "    df.to_csv(\"stocktwits_df.csv\", index=False, encoding=\"utf-8\") \n",
    "    time.sleep(20)"
   ]
  },
  {
   "cell_type": "code",
   "execution_count": 160,
   "metadata": {
    "collapsed": false
   },
   "outputs": [
    {
     "data": {
      "text/html": [
       "<div>\n",
       "<table border=\"1\" class=\"dataframe\">\n",
       "  <thead>\n",
       "    <tr style=\"text-align: right;\">\n",
       "      <th></th>\n",
       "      <th>date</th>\n",
       "      <th>name</th>\n",
       "      <th>symbol</th>\n",
       "      <th>time</th>\n",
       "      <th>title</th>\n",
       "      <th>tweet_id</th>\n",
       "      <th>user_id</th>\n",
       "      <th>user_name</th>\n",
       "    </tr>\n",
       "  </thead>\n",
       "  <tbody>\n",
       "    <tr>\n",
       "      <th>0</th>\n",
       "      <td>2016-10-01</td>\n",
       "      <td>Andrew Kreimer</td>\n",
       "      <td>GLOG</td>\n",
       "      <td>00:31:30</td>\n",
       "      <td>GasLog</td>\n",
       "      <td>63819593</td>\n",
       "      <td>784233</td>\n",
       "      <td>algonell</td>\n",
       "    </tr>\n",
       "    <tr>\n",
       "      <th>1</th>\n",
       "      <td>2016-10-01</td>\n",
       "      <td>James D</td>\n",
       "      <td>EL</td>\n",
       "      <td>00:40:34</td>\n",
       "      <td>Estee Lauder Companies Inc.</td>\n",
       "      <td>63819888</td>\n",
       "      <td>517503</td>\n",
       "      <td>jmsd</td>\n",
       "    </tr>\n",
       "    <tr>\n",
       "      <th>2</th>\n",
       "      <td>2016-10-01</td>\n",
       "      <td>James D</td>\n",
       "      <td>PII</td>\n",
       "      <td>00:40:34</td>\n",
       "      <td>Polaris Industries, Inc.</td>\n",
       "      <td>63819888</td>\n",
       "      <td>517503</td>\n",
       "      <td>jmsd</td>\n",
       "    </tr>\n",
       "    <tr>\n",
       "      <th>3</th>\n",
       "      <td>2016-10-01</td>\n",
       "      <td>saad</td>\n",
       "      <td>CLDX</td>\n",
       "      <td>00:43:08</td>\n",
       "      <td>Celldex Therapeutics, Inc.</td>\n",
       "      <td>63819973</td>\n",
       "      <td>450113</td>\n",
       "      <td>sfp300</td>\n",
       "    </tr>\n",
       "    <tr>\n",
       "      <th>4</th>\n",
       "      <td>2016-10-01</td>\n",
       "      <td>saad</td>\n",
       "      <td>FSLR</td>\n",
       "      <td>00:43:08</td>\n",
       "      <td>First Solar, Inc.</td>\n",
       "      <td>63819973</td>\n",
       "      <td>450113</td>\n",
       "      <td>sfp300</td>\n",
       "    </tr>\n",
       "  </tbody>\n",
       "</table>\n",
       "</div>"
      ],
      "text/plain": [
       "         date            name symbol      time                        title  \\\n",
       "0  2016-10-01  Andrew Kreimer   GLOG  00:31:30                       GasLog   \n",
       "1  2016-10-01         James D     EL  00:40:34  Estee Lauder Companies Inc.   \n",
       "2  2016-10-01         James D    PII  00:40:34     Polaris Industries, Inc.   \n",
       "3  2016-10-01            saad   CLDX  00:43:08   Celldex Therapeutics, Inc.   \n",
       "4  2016-10-01            saad   FSLR  00:43:08            First Solar, Inc.   \n",
       "\n",
       "   tweet_id user_id user_name  \n",
       "0  63819593  784233  algonell  \n",
       "1  63819888  517503      jmsd  \n",
       "2  63819888  517503      jmsd  \n",
       "3  63819973  450113    sfp300  \n",
       "4  63819973  450113    sfp300  "
      ]
     },
     "execution_count": 160,
     "metadata": {},
     "output_type": "execute_result"
    }
   ],
   "source": [
    "df = df.groupby(\"symbol\").apply(fill_dataframe)\n",
    "df[\"date\"] = df[\"date\"].astype(str)\n",
    "df = df[df.date > \"2016-09-31\"].reset_index()\n",
    "df[\"count\"] = df.groupby([\"symbol\"])[\"user_name\"].transform(\"count\")\n",
    "df[[\"date\",\"name\",\"symbol\",\"time\",\"title\",\"tweet_id\",\"user_id\",\"user_name\"]].head()"
   ]
  },
  {
   "cell_type": "code",
   "execution_count": 161,
   "metadata": {
    "collapsed": false
   },
   "outputs": [
    {
     "data": {
      "image/png": "[encoded data removed]",
      "text/plain": [
       "<matplotlib.figure.Figure at 0x1d925aa4ef0>"
      ]
     },
     "metadata": {},
     "output_type": "display_data"
    }
   ],
   "source": [
    "counts = df.groupby(\"date\")[\"date\"].count()\n",
    "counts.sort_index(ascending=True, inplace=True)\n",
    "counts.plot(kind=\"bar\");"
   ]
  },
  {
   "cell_type": "code",
   "execution_count": 162,
   "metadata": {
    "collapsed": false
   },
   "outputs": [
    {
     "data": {
      "text/plain": [
       "48337"
      ]
     },
     "execution_count": 162,
     "metadata": {},
     "output_type": "execute_result"
    }
   ],
   "source": [
    "df.shape[0]"
   ]
  },
  {
   "cell_type": "code",
   "execution_count": 163,
   "metadata": {
    "collapsed": false
   },
   "outputs": [
    {
     "data": {
      "text/html": [
       "<div>\n",
       "<table border=\"1\" class=\"dataframe\">\n",
       "  <thead>\n",
       "    <tr style=\"text-align: right;\">\n",
       "      <th></th>\n",
       "      <th>date</th>\n",
       "      <th>name</th>\n",
       "      <th>symbol</th>\n",
       "      <th>time</th>\n",
       "      <th>title</th>\n",
       "      <th>tweet_id</th>\n",
       "      <th>user_id</th>\n",
       "      <th>user_name</th>\n",
       "    </tr>\n",
       "    <tr>\n",
       "      <th>index</th>\n",
       "      <th></th>\n",
       "      <th></th>\n",
       "      <th></th>\n",
       "      <th></th>\n",
       "      <th></th>\n",
       "      <th></th>\n",
       "      <th></th>\n",
       "      <th></th>\n",
       "    </tr>\n",
       "  </thead>\n",
       "  <tbody>\n",
       "    <tr>\n",
       "      <th>0</th>\n",
       "      <td>2016-10-13</td>\n",
       "      <td>saad</td>\n",
       "      <td>CVS</td>\n",
       "      <td>00:02:40</td>\n",
       "      <td>CVS Caremark Corporation</td>\n",
       "      <td>64600135</td>\n",
       "      <td>450113</td>\n",
       "      <td>sfp300</td>\n",
       "    </tr>\n",
       "    <tr>\n",
       "      <th>1</th>\n",
       "      <td>2016-10-13</td>\n",
       "      <td>BS</td>\n",
       "      <td>COST</td>\n",
       "      <td>00:03:00</td>\n",
       "      <td>Costco Wholesale Corporation</td>\n",
       "      <td>64600148</td>\n",
       "      <td>537883</td>\n",
       "      <td>BS12</td>\n",
       "    </tr>\n",
       "    <tr>\n",
       "      <th>2</th>\n",
       "      <td>2016-10-13</td>\n",
       "      <td>BS</td>\n",
       "      <td>HA</td>\n",
       "      <td>00:03:00</td>\n",
       "      <td>Hawaiian Holdings Inc.</td>\n",
       "      <td>64600148</td>\n",
       "      <td>537883</td>\n",
       "      <td>BS12</td>\n",
       "    </tr>\n",
       "    <tr>\n",
       "      <th>3</th>\n",
       "      <td>2016-10-13</td>\n",
       "      <td>BS</td>\n",
       "      <td>WFM</td>\n",
       "      <td>00:03:00</td>\n",
       "      <td>Whole Foods Market, Inc.</td>\n",
       "      <td>64600148</td>\n",
       "      <td>537883</td>\n",
       "      <td>BS12</td>\n",
       "    </tr>\n",
       "    <tr>\n",
       "      <th>4</th>\n",
       "      <td>2016-10-13</td>\n",
       "      <td>BS</td>\n",
       "      <td>BBY</td>\n",
       "      <td>00:03:00</td>\n",
       "      <td>Best Buy Co. Inc.</td>\n",
       "      <td>64600148</td>\n",
       "      <td>537883</td>\n",
       "      <td>BS12</td>\n",
       "    </tr>\n",
       "  </tbody>\n",
       "</table>\n",
       "</div>"
      ],
      "text/plain": [
       "             date  name symbol      time                         title  \\\n",
       "index                                                                    \n",
       "0      2016-10-13  saad    CVS  00:02:40      CVS Caremark Corporation   \n",
       "1      2016-10-13    BS   COST  00:03:00  Costco Wholesale Corporation   \n",
       "2      2016-10-13    BS     HA  00:03:00        Hawaiian Holdings Inc.   \n",
       "3      2016-10-13    BS    WFM  00:03:00      Whole Foods Market, Inc.   \n",
       "4      2016-10-13    BS    BBY  00:03:00             Best Buy Co. Inc.   \n",
       "\n",
       "       tweet_id user_id user_name  \n",
       "index                              \n",
       "0      64600135  450113    sfp300  \n",
       "1      64600148  537883      BS12  \n",
       "2      64600148  537883      BS12  \n",
       "3      64600148  537883      BS12  \n",
       "4      64600148  537883      BS12  "
      ]
     },
     "execution_count": 163,
     "metadata": {},
     "output_type": "execute_result"
    }
   ],
   "source": [
    "df = clean_dataframe(df[df[\"date\"]==\"2016-10-13\"])\n",
    "df[[\"date\",\"name\",\"symbol\",\"time\",\"title\",\"tweet_id\",\"user_id\",\"user_name\"]].head()"
   ]
  },
  {
   "cell_type": "code",
   "execution_count": 164,
   "metadata": {
    "collapsed": false
   },
   "outputs": [],
   "source": [
    "network = nx.Graph()\n",
    "\n",
    "#create a dictionary of {tweet_id : [symbols]}\n",
    "dict1 = {}\n",
    "rdf = df.groupby(\"tweet_id\")\n",
    "for tweet_id in list(set(df.tweet_id.values)):\n",
    "    dict1[tweet_id] = list(rdf.get_group(tweet_id).symbol.values) \n",
    "\n",
    "#Create and save the weighted graph for use in Gephi\n",
    "for key, value in dict1.items():\n",
    "    for tup in list(itertools.combinations(value, 2)):        \n",
    "        source = tup[0]\n",
    "        target = tup[1] \n",
    "        if source != target:\n",
    "            if network.has_edge(source, target) == True:            \n",
    "                #network[source][target][\"weight\"] += 1\n",
    "                pass\n",
    "            else:\n",
    "                date = df[\"date\"][df[\"tweet_id\"]==key].values[0]\n",
    "                network.add_nodes_from([source, target])\n",
    "                network.add_edge(source, target, weight=1, key=str(key), date=str(date))"
   ]
  },
  {
   "cell_type": "code",
   "execution_count": 165,
   "metadata": {
    "collapsed": false
   },
   "outputs": [
    {
     "name": "stdout",
     "output_type": "stream",
     "text": [
      "Number of nodes: 788\n",
      "Number of edges: 5952\n",
      "\n",
      "Minimum degree : 1\n",
      "Maximum degree : 190\n",
      "\n",
      "Average degree : 15.1065989848\n"
     ]
    }
   ],
   "source": [
    "N = len(network)\n",
    "L = network.size()\n",
    "degrees = list(network.degree().values())\n",
    "kmin = min(degrees)\n",
    "kmax = max(degrees)\n",
    "\n",
    "print(\"Number of nodes:\", N)\n",
    "print(\"Number of edges:\", L)\n",
    "print()\n",
    "print(\"Minimum degree :\", kmin)\n",
    "print(\"Maximum degree :\", kmax)\n",
    "print()\n",
    "print(\"Average degree :\", np.mean(degrees))"
   ]
  },
  {
   "cell_type": "code",
   "execution_count": 166,
   "metadata": {
    "collapsed": false
   },
   "outputs": [],
   "source": [
    "#Add node attributes \n",
    "nodes  = []\n",
    "titles = {}\n",
    "for node in network.nodes():\n",
    "    titles[node] = df[\"title\"][df.symbol==node].values[0]\n",
    "    nodes.append({\"name\": node, \"title\": df[\"title\"][df.symbol==node].values[0]})\n",
    "\n",
    "nx.set_node_attributes(network, \"Title\", titles)\n",
    "nx.write_gexf(network, \"symbol_graph.gexf\")"
   ]
  },
  {
   "cell_type": "code",
   "execution_count": 167,
   "metadata": {
    "collapsed": false
   },
   "outputs": [],
   "source": [
    "#save the unweighted graph for use in R\n",
    "data = []\n",
    "node_list = list(network.nodes())\n",
    "\n",
    "for (source, target) in network.edges():\n",
    "    data.append({\"value\": 1.0, \n",
    "                 \"id\": network[source][target][\"key\"],\n",
    "                 \"date\": network[source][target][\"date\"],\n",
    "                 \"source\": node_list.index(source), \n",
    "                 \"target\": node_list.index(target)\n",
    "                })    \n",
    "\n",
    "links = pd.DataFrame(data)\n",
    "nodes = pd.DataFrame(nodes)\n",
    "links.to_csv(\"Rlinks.csv\", index=False, encoding=\"utf-8\")\n",
    "nodes.to_csv(\"Rnodes.csv\", index=False, encoding=\"utf-8\")"
   ]
  },
  {
   "cell_type": "code",
   "execution_count": 168,
   "metadata": {
    "collapsed": false
   },
   "outputs": [],
   "source": [
    "#Get 10 logarithmically spaced bins between kmin and kmax\n",
    "bin_edges = np.logspace(np.log10(kmin), np.log10(kmax), num=10)\n",
    "\n",
    "#histogram the data into these bins\n",
    "density, _ = np.histogram(degrees, bins=bin_edges, density=True)"
   ]
  },
  {
   "cell_type": "code",
   "execution_count": 169,
   "metadata": {
    "collapsed": false
   },
   "outputs": [
    {
     "data": {
      "image/png": "[encoded data removed]",
      "text/plain": [
       "<matplotlib.figure.Figure at 0x1d924a48fd0>"
      ]
     },
     "metadata": {},
     "output_type": "display_data"
    }
   ],
   "source": [
    "fig = plt.figure(figsize=(7.5,7.5), dpi=100)\n",
    "\n",
    "#\"x\" should be midpoint (IN LOG SPACE) of each bin\n",
    "log_be = np.log10(bin_edges)\n",
    "x = 10**((log_be[1:] + log_be[:-1])/2)\n",
    "\n",
    "plt.loglog(x, density, marker='o', linestyle='none')\n",
    "plt.xlabel(r\"degree $k$\", fontsize=16)\n",
    "plt.ylabel(r\"$P(k)$\", fontsize=16)\n",
    "#plt.xlim([0,1000])\n",
    "\n",
    "#remove right and top boundaries because they're ugly\n",
    "ax = plt.gca()\n",
    "ax.spines['right'].set_visible(False)\n",
    "ax.spines['top'].set_visible(False)\n",
    "ax.yaxis.set_ticks_position('left')\n",
    "ax.xaxis.set_ticks_position('bottom')\n",
    "\n",
    "#Show the plot\n",
    "plt.show()"
   ]
  }
 ],
 "metadata": {
  "kernelspec": {
   "display_name": "Python 3",
   "language": "python",
   "name": "python3"
  },
  "language_info": {
   "codemirror_mode": {
    "name": "ipython",
    "version": 3
   },
   "file_extension": ".py",
   "mimetype": "text/x-python",
   "name": "python",
   "nbconvert_exporter": "python",
   "pygments_lexer": "ipython3",
   "version": "3.5.1"
  }
 },
 "nbformat": 4,
 "nbformat_minor": 0
}
