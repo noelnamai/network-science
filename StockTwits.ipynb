{
 "cells": [
  {
   "cell_type": "code",
   "execution_count": 160,
   "metadata": {
    "collapsed": false
   },
   "outputs": [],
   "source": [
    "%matplotlib inline\n",
    "\n",
    "import re\n",
    "import json\n",
    "import time\n",
    "import random\n",
    "import datetime\n",
    "import warnings\n",
    "import requests\n",
    "import itertools\n",
    "import urllib.parse\n",
    "import urllib.request\n",
    "\n",
    "import numpy as np\n",
    "import pandas as pd\n",
    "import networkx as nx\n",
    "import matplotlib.pyplot as plt"
   ]
  },
  {
   "cell_type": "code",
   "execution_count": 161,
   "metadata": {
    "collapsed": true
   },
   "outputs": [],
   "source": [
    "#Allows an application to request user authorization. \n",
    "def oauth_authorize():    \n",
    "    url    = \"https://api.stocktwits.com/api/2/oauth/authorize\"                \n",
    "    params = urllib.parse.urlencode({\"client_id\": \"f453d9d2f6316db9\", \n",
    "                                     \"response_type\": \"token\",\n",
    "                                     \"redirect_uri\": \"https://sites.google.com/site/noelnamai/\",\n",
    "                                     \"scope\": \"read,watch_lists,publish_messages,publish_watch_lists,follow_users,follow_stocks\"\n",
    "                                    })    \n",
    "    file   = urllib.request.urlopen(url, params.encode(\"UTF-8\"))    \n",
    "    return file.getcode()"
   ]
  },
  {
   "cell_type": "code",
   "execution_count": 162,
   "metadata": {
    "collapsed": false
   },
   "outputs": [],
   "source": [
    "#Returns the most recent 30 messages for the specified symbol. Includes symbol object in response.\n",
    "def stream_symbol(symbol):\n",
    "    url = \"https://api.stocktwits.com/api/2/streams/symbol/\" + str(symbol) + \".json\"\n",
    "    try:\n",
    "        content = requests.get(url).json()\n",
    "    except Exception as error:\n",
    "        print(error)\n",
    "    return content"
   ]
  },
  {
   "cell_type": "code",
   "execution_count": 163,
   "metadata": {
    "collapsed": false
   },
   "outputs": [],
   "source": [
    "#Returns the most recent 30 messages with trending symbols in the last 5 minutes.\n",
    "def stream_trending():             \n",
    "    url = \"https://api.stocktwits.com/api/2/streams/trending.json\"\n",
    "    payload = {\"access_token\": \"e6f40cf7aad1e2aa5dcb14ca6003968495cf8bb3\"}\n",
    "    try:    \n",
    "        content = requests.get(url, params=payload).json()\n",
    "    except Exception as error:\n",
    "        print(error) \n",
    "    return content"
   ]
  },
  {
   "cell_type": "code",
   "execution_count": 164,
   "metadata": {
    "collapsed": false
   },
   "outputs": [],
   "source": [
    "#Creates a dataframe from JSON data returned by the API.\n",
    "def create_dataframe(data):    \n",
    "    code = data[\"response\"][\"status\"] #Seek code=200        \n",
    "    response = []                                 \n",
    "    if code == 200:         \n",
    "        for tweet in data[\"messages\"]:\n",
    "            for symbol in tweet[\"symbols\"]:\n",
    "                row = {\"symbol\": symbol[\"symbol\"],\n",
    "                       \"title\": symbol[\"title\"],\n",
    "                       \"tweet_id\": tweet[\"id\"],\n",
    "                       \"text\": tweet[\"body\"],\n",
    "                       \"UTC\": tweet[\"created_at\"],\n",
    "                       \"official\": tweet[\"user\"][\"official\"],\n",
    "                       \"name\": tweet[\"user\"][\"name\"],\n",
    "                       \"user_id\": tweet[\"user\"][\"id\"],\n",
    "                       \"user_name\": tweet[\"user\"][\"username\"]}\n",
    "                response.append(row) \n",
    "    else: \n",
    "        print(code)\n",
    "        pass   \n",
    "    df = pd.DataFrame(response)\n",
    "    return code, df"
   ]
  },
  {
   "cell_type": "code",
   "execution_count": 165,
   "metadata": {
    "collapsed": true
   },
   "outputs": [],
   "source": [
    "#Clean the data frame and fill in the missing data\n",
    "def clean_dataframe(df):\n",
    "    df.sort_values(by=\"UTC\")\n",
    "    df = df.drop_duplicates()    \n",
    "    df = df.dropna()                \n",
    "    df[\"index\"] = range(len(df))\n",
    "    df = df.set_index(\"index\")\n",
    "    df[\"count\"] = df.groupby([\"symbol\"])[\"user_name\"].transform(\"count\")\n",
    "    df.to_csv(\"stocktwits_df.csv\", index=False, encoding=\"utf-8\")\n",
    "    return df"
   ]
  },
  {
   "cell_type": "code",
   "execution_count": 166,
   "metadata": {
    "collapsed": false
   },
   "outputs": [],
   "source": [
    "#Get trending symbols and start building a dataframe from them.\n",
    "def do_stuff(code, t):\n",
    "    start_time = time.time()\n",
    "    while code == 200 and time.time() - start_time <= t:\n",
    "        data = stream_trending()\n",
    "        code, df = create_dataframe(data)\n",
    "        try:\n",
    "            saved_df = pd.read_csv(\"stocktwits_df.csv\", encoding=\"utf8\")\n",
    "            saved_df = saved_df[[\"tweet_id\",\"text\",\"UTC\",\"user_id\",\"user_name\",\"name\",\"symbol\",\"title\",\"official\"]]\n",
    "            df = pd.concat([df, saved_df]) \n",
    "        except:\n",
    "            pass        \n",
    "        time.sleep(6)\n",
    "        dfx = clean_dataframe(df)     \n",
    "    return code, dfx"
   ]
  },
  {
   "cell_type": "code",
   "execution_count": 167,
   "metadata": {
    "collapsed": false
   },
   "outputs": [],
   "source": [
    "#Call the do_stuff()\n",
    "t = 3\n",
    "run = True\n",
    "code = oauth_authorize()\n",
    "try:\n",
    "    code, df = do_stuff(code, t)\n",
    "except Exception as error:\n",
    "    print(error) "
   ]
  },
  {
   "cell_type": "code",
   "execution_count": 168,
   "metadata": {
    "collapsed": true
   },
   "outputs": [],
   "source": [
    "#Fill in the data \"sector\" and \"industry\" to the main dataframe.\n",
    "def fill_dataframe(x):   \n",
    "    symbol = list(set(x[\"symbol\"].values))[0]\n",
    "    sector = symbol_title[\"sector\"][symbol_title[\"symbol\"] == symbol].values\n",
    "    industry = symbol_title[\"industry\"][symbol_title[\"symbol\"] == symbol].values\n",
    "    x[\"sector\"] = sector[0] if len(sector) == 1 else np.nan\n",
    "    x[\"industry\"] = industry[0] if len(industry) == 1 else np.nan    \n",
    "    return x"
   ]
  },
  {
   "cell_type": "code",
   "execution_count": 169,
   "metadata": {
    "collapsed": false
   },
   "outputs": [
    {
     "data": {
      "text/html": [
       "<div>\n",
       "<table border=\"1\" class=\"dataframe\">\n",
       "  <thead>\n",
       "    <tr style=\"text-align: right;\">\n",
       "      <th></th>\n",
       "      <th>UTC</th>\n",
       "      <th>name</th>\n",
       "      <th>official</th>\n",
       "      <th>symbol</th>\n",
       "      <th>text</th>\n",
       "      <th>title</th>\n",
       "      <th>tweet_id</th>\n",
       "      <th>user_id</th>\n",
       "      <th>user_name</th>\n",
       "      <th>count</th>\n",
       "      <th>sector</th>\n",
       "      <th>industry</th>\n",
       "    </tr>\n",
       "    <tr>\n",
       "      <th>index</th>\n",
       "      <th></th>\n",
       "      <th></th>\n",
       "      <th></th>\n",
       "      <th></th>\n",
       "      <th></th>\n",
       "      <th></th>\n",
       "      <th></th>\n",
       "      <th></th>\n",
       "      <th></th>\n",
       "      <th></th>\n",
       "      <th></th>\n",
       "      <th></th>\n",
       "    </tr>\n",
       "  </thead>\n",
       "  <tbody>\n",
       "    <tr>\n",
       "      <th>0</th>\n",
       "      <td>2016-09-29T19:12:12Z</td>\n",
       "      <td>Nick Leach</td>\n",
       "      <td>False</td>\n",
       "      <td>CATB</td>\n",
       "      <td>$CATB http://www.streetinsider.com/Analyst+Com...</td>\n",
       "      <td>Catabasis Pharmaceuticals</td>\n",
       "      <td>63704751</td>\n",
       "      <td>760797</td>\n",
       "      <td>nickleach22</td>\n",
       "      <td>191</td>\n",
       "      <td>NaN</td>\n",
       "      <td>NaN</td>\n",
       "    </tr>\n",
       "    <tr>\n",
       "      <th>1</th>\n",
       "      <td>2016-09-29T19:12:10Z</td>\n",
       "      <td>SG</td>\n",
       "      <td>False</td>\n",
       "      <td>SPY</td>\n",
       "      <td>$SPY I trade stocks over the market, setups an...</td>\n",
       "      <td>SPDR S&amp;P 500</td>\n",
       "      <td>63704749</td>\n",
       "      <td>433942</td>\n",
       "      <td>SG7416</td>\n",
       "      <td>536</td>\n",
       "      <td>Financial</td>\n",
       "      <td>Exchange Traded Fund</td>\n",
       "    </tr>\n",
       "    <tr>\n",
       "      <th>2</th>\n",
       "      <td>2016-09-29T19:12:10Z</td>\n",
       "      <td>Evora</td>\n",
       "      <td>False</td>\n",
       "      <td>SPY</td>\n",
       "      <td>$SPY will it close under 215 today?</td>\n",
       "      <td>SPDR S&amp;P 500</td>\n",
       "      <td>63704748</td>\n",
       "      <td>569812</td>\n",
       "      <td>Daily_Investor</td>\n",
       "      <td>536</td>\n",
       "      <td>Financial</td>\n",
       "      <td>Exchange Traded Fund</td>\n",
       "    </tr>\n",
       "    <tr>\n",
       "      <th>3</th>\n",
       "      <td>2016-09-29T19:12:09Z</td>\n",
       "      <td>San Rensho</td>\n",
       "      <td>False</td>\n",
       "      <td>DB</td>\n",
       "      <td>$SPY $DB yep, i was just starting 2nd grade</td>\n",
       "      <td>Deutsche Bank AG</td>\n",
       "      <td>63704743</td>\n",
       "      <td>560497</td>\n",
       "      <td>Sanrensho</td>\n",
       "      <td>386</td>\n",
       "      <td>Financial</td>\n",
       "      <td>Foreign Regional Banks</td>\n",
       "    </tr>\n",
       "    <tr>\n",
       "      <th>4</th>\n",
       "      <td>2016-09-29T19:12:09Z</td>\n",
       "      <td>San Rensho</td>\n",
       "      <td>False</td>\n",
       "      <td>SPY</td>\n",
       "      <td>$SPY $DB yep, i was just starting 2nd grade</td>\n",
       "      <td>SPDR S&amp;P 500</td>\n",
       "      <td>63704743</td>\n",
       "      <td>560497</td>\n",
       "      <td>Sanrensho</td>\n",
       "      <td>536</td>\n",
       "      <td>Financial</td>\n",
       "      <td>Exchange Traded Fund</td>\n",
       "    </tr>\n",
       "  </tbody>\n",
       "</table>\n",
       "</div>"
      ],
      "text/plain": [
       "                        UTC        name official symbol  \\\n",
       "index                                                     \n",
       "0      2016-09-29T19:12:12Z  Nick Leach    False   CATB   \n",
       "1      2016-09-29T19:12:10Z          SG    False    SPY   \n",
       "2      2016-09-29T19:12:10Z       Evora    False    SPY   \n",
       "3      2016-09-29T19:12:09Z  San Rensho    False     DB   \n",
       "4      2016-09-29T19:12:09Z  San Rensho    False    SPY   \n",
       "\n",
       "                                                    text  \\\n",
       "index                                                      \n",
       "0      $CATB http://www.streetinsider.com/Analyst+Com...   \n",
       "1      $SPY I trade stocks over the market, setups an...   \n",
       "2                    $SPY will it close under 215 today?   \n",
       "3            $SPY $DB yep, i was just starting 2nd grade   \n",
       "4            $SPY $DB yep, i was just starting 2nd grade   \n",
       "\n",
       "                           title  tweet_id  user_id       user_name  count  \\\n",
       "index                                                                        \n",
       "0      Catabasis Pharmaceuticals  63704751   760797     nickleach22    191   \n",
       "1                   SPDR S&P 500  63704749   433942          SG7416    536   \n",
       "2                   SPDR S&P 500  63704748   569812  Daily_Investor    536   \n",
       "3               Deutsche Bank AG  63704743   560497       Sanrensho    386   \n",
       "4                   SPDR S&P 500  63704743   560497       Sanrensho    536   \n",
       "\n",
       "          sector                industry  \n",
       "index                                     \n",
       "0            NaN                     NaN  \n",
       "1      Financial    Exchange Traded Fund  \n",
       "2      Financial    Exchange Traded Fund  \n",
       "3      Financial  Foreign Regional Banks  \n",
       "4      Financial    Exchange Traded Fund  "
      ]
     },
     "execution_count": 169,
     "metadata": {},
     "output_type": "execute_result"
    }
   ],
   "source": [
    "symbol_title = pd.read_csv(\"symbol_title.csv\", index_col=2, sep=\",\")\n",
    "symbol_title = symbol_title[[\"symbol\",\"sector\",\"industry\"]]\n",
    "df = df.groupby(\"symbol\").apply(fill_dataframe); df.head()"
   ]
  },
  {
   "cell_type": "code",
   "execution_count": 183,
   "metadata": {
    "collapsed": false
   },
   "outputs": [
    {
     "data": {
      "text/plain": [
       "{'all_symbols': 11718, 'df_size': 8876, 'df_symbols': 610, 'users': 1938}"
      ]
     },
     "execution_count": 183,
     "metadata": {},
     "output_type": "execute_result"
    }
   ],
   "source": [
    "{\"df_size\": len(df.index), \n",
    " \"users\": len(list(set(df[\"user_id\"]))), \n",
    " \"df_symbols\": len(list(set(df[\"symbol\"]))), \n",
    " \"all_symbols\": len(symbol_title)}"
   ]
  },
  {
   "cell_type": "code",
   "execution_count": 184,
   "metadata": {
    "collapsed": false
   },
   "outputs": [
    {
     "data": {
      "text/plain": [
       "'2016-09-29T19:12:12Z'"
      ]
     },
     "execution_count": 184,
     "metadata": {},
     "output_type": "execute_result"
    }
   ],
   "source": [
    "df.UTC[0]"
   ]
  },
  {
   "cell_type": "code",
   "execution_count": 171,
   "metadata": {
    "collapsed": false
   },
   "outputs": [],
   "source": [
    "network = nx.Graph()\n",
    "\n",
    "#create a dictionary of {tweet_id : [symbols]}\n",
    "dict1 = {}\n",
    "rdf = df.groupby(\"tweet_id\")\n",
    "for tweet_id in list(set(df.tweet_id.values)):\n",
    "    dict1[tweet_id] = list(rdf.get_group(tweet_id).title.values) \n",
    "\n",
    "#Create and save the weighted graph for use in Gephi\n",
    "for key, value in dict1.items():\n",
    "    for tup in list(itertools.combinations(value, 2)):        \n",
    "        source = tup[0]\n",
    "        target = tup[1] \n",
    "        if source != target:\n",
    "            if network.has_edge(source, target) == True:            \n",
    "                network[source][target][\"weight\"] += 1\n",
    "                pass\n",
    "            else:\n",
    "                network.add_nodes_from([source, target])\n",
    "                network.add_edge(source, target, weight=1)\n",
    "                \n",
    "nx.write_gexf(network, \"symbol_graph.gexf\")"
   ]
  },
  {
   "cell_type": "code",
   "execution_count": 172,
   "metadata": {
    "collapsed": false
   },
   "outputs": [],
   "source": [
    "#save the unweighted graph for use in R\n",
    "node_list = list(network.nodes())    \n",
    "data = [{\"source\":node_list.index(source), \"target\":node_list.index(target), \"value\":1.0} for (source, target) in network.edges()] \n",
    "\n",
    "links = pd.DataFrame(data)\n",
    "links.to_csv(\"Rlinks.csv\", index=False, encoding=\"utf-8\")\n",
    "\n",
    "nodes = pd.DataFrame(node_list, columns=[\"name\"])\n",
    "nodes.to_csv(\"Rnodes.csv\", index=False, encoding=\"utf-8\")"
   ]
  }
 ],
 "metadata": {
  "kernelspec": {
   "display_name": "Python 3",
   "language": "python",
   "name": "python3"
  },
  "language_info": {
   "codemirror_mode": {
    "name": "ipython",
    "version": 3
   },
   "file_extension": ".py",
   "mimetype": "text/x-python",
   "name": "python",
   "nbconvert_exporter": "python",
   "pygments_lexer": "ipython3",
   "version": "3.5.1"
  }
 },
 "nbformat": 4,
 "nbformat_minor": 0
}
