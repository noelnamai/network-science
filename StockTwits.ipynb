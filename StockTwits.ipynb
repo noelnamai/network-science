{
 "cells": [
  {
   "cell_type": "code",
   "execution_count": 109,
   "metadata": {
    "collapsed": false
   },
   "outputs": [],
   "source": [
    "%matplotlib inline\n",
    "\n",
    "import re\n",
    "import json\n",
    "import time\n",
    "import random\n",
    "import os.path\n",
    "import requests\n",
    "import warnings\n",
    "import itertools\n",
    "import urllib.parse\n",
    "import urllib.request\n",
    "\n",
    "import numpy as np\n",
    "import pandas as pd\n",
    "import networkx as nx\n",
    "import matplotlib.pyplot as plt\n",
    "\n",
    "from datetime import datetime"
   ]
  },
  {
   "cell_type": "code",
   "execution_count": 110,
   "metadata": {
    "collapsed": false
   },
   "outputs": [
    {
     "data": {
      "text/html": [
       "<div>\n",
       "<table border=\"1\" class=\"dataframe\">\n",
       "  <thead>\n",
       "    <tr style=\"text-align: right;\">\n",
       "      <th></th>\n",
       "      <th>symbol</th>\n",
       "      <th>sector</th>\n",
       "      <th>industry</th>\n",
       "    </tr>\n",
       "    <tr>\n",
       "      <th>name</th>\n",
       "      <th></th>\n",
       "      <th></th>\n",
       "      <th></th>\n",
       "    </tr>\n",
       "  </thead>\n",
       "  <tbody>\n",
       "    <tr>\n",
       "      <th>AAC Holdings</th>\n",
       "      <td>AAC</td>\n",
       "      <td>Conglomerates</td>\n",
       "      <td>Conglomerates</td>\n",
       "    </tr>\n",
       "    <tr>\n",
       "      <th>Almaden Minerals Ltd.</th>\n",
       "      <td>AAU</td>\n",
       "      <td>Basic Materials</td>\n",
       "      <td>Industrial Metals &amp; Minerals</td>\n",
       "    </tr>\n",
       "    <tr>\n",
       "      <th>American Biltrite Inc.</th>\n",
       "      <td>ABL</td>\n",
       "      <td>Consumer Goods</td>\n",
       "      <td>Rubber &amp; Plastics</td>\n",
       "    </tr>\n",
       "    <tr>\n",
       "      <th>Acme United Corp.</th>\n",
       "      <td>ACU</td>\n",
       "      <td>Consumer Goods</td>\n",
       "      <td>Office Supplies</td>\n",
       "    </tr>\n",
       "    <tr>\n",
       "      <th>AeroCentury Corp.</th>\n",
       "      <td>ACY</td>\n",
       "      <td>Services</td>\n",
       "      <td>Rental &amp; Leasing Services</td>\n",
       "    </tr>\n",
       "  </tbody>\n",
       "</table>\n",
       "</div>"
      ],
      "text/plain": [
       "                       symbol           sector                      industry\n",
       "name                                                                        \n",
       "AAC Holdings              AAC    Conglomerates                 Conglomerates\n",
       "Almaden Minerals Ltd.     AAU  Basic Materials  Industrial Metals & Minerals\n",
       "American Biltrite Inc.    ABL   Consumer Goods             Rubber & Plastics\n",
       "Acme United Corp.         ACU   Consumer Goods               Office Supplies\n",
       "AeroCentury Corp.         ACY         Services     Rental & Leasing Services"
      ]
     },
     "execution_count": 110,
     "metadata": {},
     "output_type": "execute_result"
    }
   ],
   "source": [
    "#Read in the symbol title dataframe\n",
    "symbol_title = pd.read_csv(\"symbol_title.csv\", index_col=2, sep=\",\")\n",
    "symbol_title = symbol_title[[\"symbol\",\"sector\",\"industry\"]]\n",
    "symbol_title.head()"
   ]
  },
  {
   "cell_type": "code",
   "execution_count": 111,
   "metadata": {
    "collapsed": false
   },
   "outputs": [],
   "source": [
    "security = pd.read_csv(\"security.csv\", encoding=\"utf8\")"
   ]
  },
  {
   "cell_type": "code",
   "execution_count": 112,
   "metadata": {
    "collapsed": true
   },
   "outputs": [],
   "source": [
    "#Allows an application to request user authorization. \n",
    "def oauth_authorize():    \n",
    "    url = \"https://api.stocktwits.com/api/2/oauth/authorize\"                \n",
    "    params = urllib.parse.urlencode({\"client_id\": security[\"client_id\"][0], \n",
    "                                     \"response_type\": \"token\",\n",
    "                                     \"redirect_uri\": \"https://sites.google.com/site/noelnamai/\",\n",
    "                                     \"scope\": \"read,watch_lists,publish_messages,publish_watch_lists,follow_users,follow_stocks\"\n",
    "                                    })    \n",
    "    oauth = urllib.request.urlopen(url, params.encode(\"UTF-8\"))    \n",
    "    return oauth"
   ]
  },
  {
   "cell_type": "code",
   "execution_count": 113,
   "metadata": {
    "collapsed": false
   },
   "outputs": [],
   "source": [
    "oauth = oauth_authorize()"
   ]
  },
  {
   "cell_type": "code",
   "execution_count": 114,
   "metadata": {
    "collapsed": false
   },
   "outputs": [],
   "source": [
    "#Returns the most recent 30 messages for the specified symbol. Includes symbol object in response.\n",
    "def stream_symbol(symbol):\n",
    "    url = \"https://api.stocktwits.com/api/2/streams/symbol/\" + str(symbol) + \".json\"\n",
    "    try:\n",
    "        content = requests.get(url).json()\n",
    "    except Exception as error:\n",
    "        raise Exception(\"Method: stream_symbol \" + \"Error: \" + error)\n",
    "    return content"
   ]
  },
  {
   "cell_type": "code",
   "execution_count": 115,
   "metadata": {
    "collapsed": false
   },
   "outputs": [],
   "source": [
    "#Returns the most recent 30 messages with trending symbols in the last 5 minutes.\n",
    "def stream_trending():             \n",
    "    url = \"https://api.stocktwits.com/api/2/streams/trending.json\"\n",
    "    payload = {\"access_token\": security[\"access_token\"][0]}\n",
    "    try:    \n",
    "        content = requests.get(url, params=payload).json()\n",
    "    except Exception as error:\n",
    "        raise Exception(\"Method: stream_trending \" + \"Error: \" + error) \n",
    "    return content"
   ]
  },
  {
   "cell_type": "code",
   "execution_count": 116,
   "metadata": {
    "collapsed": false
   },
   "outputs": [],
   "source": [
    "#Returns the most recent 30 symbols in the last 5 minutes.\n",
    "def get_symbols():\n",
    "    symbols = []\n",
    "    data = stream_trending()\n",
    "    code = data[\"response\"][\"status\"] \n",
    "    for tweet in data[\"messages\"]:\n",
    "        for symbol in tweet[\"symbols\"]:\n",
    "            symbols.append(symbol[\"symbol\"])\n",
    "    return code, symbols"
   ]
  },
  {
   "cell_type": "code",
   "execution_count": 117,
   "metadata": {
    "collapsed": false
   },
   "outputs": [],
   "source": [
    "#Creates a dataframe from JSON data returned by the API.\n",
    "def create_dataframe(data): \n",
    "    response = [] \n",
    "    code = data[\"response\"][\"status\"]                                  \n",
    "    if code == 200: \n",
    "        for tweet in data[\"messages\"]:\n",
    "            for symbol in tweet[\"symbols\"]:\n",
    "                utc = tweet[\"created_at\"]\n",
    "                row = {\"symbol\": symbol[\"symbol\"],\n",
    "                       \"title\": symbol[\"title\"],\n",
    "                       \"tweet_id\": tweet[\"id\"],\n",
    "                       \"text\": tweet[\"body\"],\n",
    "                       \"date\": datetime.strptime(utc, \"%Y-%m-%dT%H:%M:%SZ\").strftime(\"%d-%m-%Y\"),\n",
    "                       \"time\": datetime.strptime(utc, \"%Y-%m-%dT%H:%M:%SZ\").strftime(\"%H:%M:%S\"),\n",
    "                       \"name\": tweet[\"user\"][\"name\"],\n",
    "                       \"user_id\": str(tweet[\"user\"][\"id\"]),\n",
    "                       \"user_name\": str(tweet[\"user\"][\"username\"])}\n",
    "                response.append(row) \n",
    "    else: \n",
    "        raise Exception(\"Method: create_dataframe \" + \"Error: \" + str(data[\"errors\"][0][\"message\"]))\n",
    "    df = pd.DataFrame(response)\n",
    "    return code, df"
   ]
  },
  {
   "cell_type": "code",
   "execution_count": 118,
   "metadata": {
    "collapsed": true
   },
   "outputs": [],
   "source": [
    "#Clean the data frame and fill in the missing data\n",
    "def clean_dataframe(df):\n",
    "    df = df.drop_duplicates()    \n",
    "    df = df.dropna() \n",
    "    df[\"index\"] = range(len(df))\n",
    "    df[\"tweet_id\"] = df[\"tweet_id\"].astype(\"int\")\n",
    "    df = df.set_index(\"index\")\n",
    "    return df"
   ]
  },
  {
   "cell_type": "code",
   "execution_count": 119,
   "metadata": {
    "collapsed": true
   },
   "outputs": [],
   "source": [
    "#Fill in the data \"sector\" and \"industry\" to the main dataframe.\n",
    "def fill_dataframe(x):   \n",
    "    symbol = list(set(x[\"symbol\"].values))[0]\n",
    "    sector = symbol_title[\"sector\"][symbol_title[\"symbol\"] == symbol].values\n",
    "    industry = symbol_title[\"industry\"][symbol_title[\"symbol\"] == symbol].values\n",
    "    x[\"sector\"] = sector[0] if len(sector) == 1 else np.nan\n",
    "    x[\"industry\"] = industry[0] if len(industry) == 1 else np.nan   \n",
    "    return x"
   ]
  },
  {
   "cell_type": "code",
   "execution_count": 120,
   "metadata": {
    "collapsed": false
   },
   "outputs": [],
   "source": [
    "#Read data frame. Creat a new one if non exists.\n",
    "#df = pd.DataFrame(columns=[\"date\",\"name\",\"symbol\",\"text\",\"time\",\"title\",\"tweet_id\",\"user_id\",\"user_name\"])\n",
    "df = pd.read_csv(\"stocktwits_df.csv\", encoding=\"utf8\")\n",
    "\n",
    "#Get trending symbols and start building a dataframe from them.\n",
    "code, symbols = get_symbols()\n",
    "np.random.shuffle(symbols)\n",
    "for symbol in symbols:\n",
    "    data = stream_symbol(symbol)\n",
    "    code, df2 = create_dataframe(data)\n",
    "    df = df.append(df2) \n",
    "    df = clean_dataframe(df)                  \n",
    "    df.to_csv(\"stocktwits_df.csv\", index=False, encoding=\"utf-8\") \n",
    "    time.sleep(20)"
   ]
  },
  {
   "cell_type": "code",
   "execution_count": 121,
   "metadata": {
    "collapsed": false
   },
   "outputs": [
    {
     "data": {
      "text/html": [
       "<div>\n",
       "<table border=\"1\" class=\"dataframe\">\n",
       "  <thead>\n",
       "    <tr style=\"text-align: right;\">\n",
       "      <th></th>\n",
       "      <th>date</th>\n",
       "      <th>name</th>\n",
       "      <th>symbol</th>\n",
       "      <th>time</th>\n",
       "      <th>title</th>\n",
       "      <th>tweet_id</th>\n",
       "      <th>user_id</th>\n",
       "      <th>user_name</th>\n",
       "    </tr>\n",
       "    <tr>\n",
       "      <th>index</th>\n",
       "      <th></th>\n",
       "      <th></th>\n",
       "      <th></th>\n",
       "      <th></th>\n",
       "      <th></th>\n",
       "      <th></th>\n",
       "      <th></th>\n",
       "      <th></th>\n",
       "    </tr>\n",
       "  </thead>\n",
       "  <tbody>\n",
       "    <tr>\n",
       "      <th>0</th>\n",
       "      <td>06-10-2016</td>\n",
       "      <td>Daniel Barrett</td>\n",
       "      <td>AUPH</td>\n",
       "      <td>19:47:40</td>\n",
       "      <td>Aurinia Pharmaceuticals Inc.</td>\n",
       "      <td>64199437</td>\n",
       "      <td>720914</td>\n",
       "      <td>DB868</td>\n",
       "    </tr>\n",
       "    <tr>\n",
       "      <th>1</th>\n",
       "      <td>06-10-2016</td>\n",
       "      <td>BryanU</td>\n",
       "      <td>AUPH</td>\n",
       "      <td>19:47:37</td>\n",
       "      <td>Aurinia Pharmaceuticals Inc.</td>\n",
       "      <td>64199433</td>\n",
       "      <td>849508</td>\n",
       "      <td>BearRugManufacturer</td>\n",
       "    </tr>\n",
       "    <tr>\n",
       "      <th>2</th>\n",
       "      <td>06-10-2016</td>\n",
       "      <td>Jon Lilie</td>\n",
       "      <td>AUPH</td>\n",
       "      <td>19:47:31</td>\n",
       "      <td>Aurinia Pharmaceuticals Inc.</td>\n",
       "      <td>64199413</td>\n",
       "      <td>768861</td>\n",
       "      <td>jonlilie</td>\n",
       "    </tr>\n",
       "    <tr>\n",
       "      <th>3</th>\n",
       "      <td>06-10-2016</td>\n",
       "      <td>101camshaft</td>\n",
       "      <td>AUPH</td>\n",
       "      <td>19:47:27</td>\n",
       "      <td>Aurinia Pharmaceuticals Inc.</td>\n",
       "      <td>64199398</td>\n",
       "      <td>834192</td>\n",
       "      <td>101camshaft</td>\n",
       "    </tr>\n",
       "    <tr>\n",
       "      <th>4</th>\n",
       "      <td>06-10-2016</td>\n",
       "      <td>Silkysmooth</td>\n",
       "      <td>AUPH</td>\n",
       "      <td>19:47:22</td>\n",
       "      <td>Aurinia Pharmaceuticals Inc.</td>\n",
       "      <td>64199383</td>\n",
       "      <td>841235</td>\n",
       "      <td>silkysmooth</td>\n",
       "    </tr>\n",
       "  </tbody>\n",
       "</table>\n",
       "</div>"
      ],
      "text/plain": [
       "             date            name symbol      time  \\\n",
       "index                                                \n",
       "0      06-10-2016  Daniel Barrett   AUPH  19:47:40   \n",
       "1      06-10-2016          BryanU   AUPH  19:47:37   \n",
       "2      06-10-2016       Jon Lilie   AUPH  19:47:31   \n",
       "3      06-10-2016     101camshaft   AUPH  19:47:27   \n",
       "4      06-10-2016     Silkysmooth   AUPH  19:47:22   \n",
       "\n",
       "                              title  tweet_id user_id            user_name  \n",
       "index                                                                       \n",
       "0      Aurinia Pharmaceuticals Inc.  64199437  720914                DB868  \n",
       "1      Aurinia Pharmaceuticals Inc.  64199433  849508  BearRugManufacturer  \n",
       "2      Aurinia Pharmaceuticals Inc.  64199413  768861             jonlilie  \n",
       "3      Aurinia Pharmaceuticals Inc.  64199398  834192          101camshaft  \n",
       "4      Aurinia Pharmaceuticals Inc.  64199383  841235          silkysmooth  "
      ]
     },
     "execution_count": 121,
     "metadata": {},
     "output_type": "execute_result"
    }
   ],
   "source": [
    "df = df.groupby(\"symbol\").apply(fill_dataframe)\n",
    "df[\"count\"] = df.groupby([\"symbol\"])[\"user_name\"].transform(\"count\")\n",
    "df[[\"date\",\"name\",\"symbol\",\"time\",\"title\",\"tweet_id\",\"user_id\",\"user_name\"]].head()"
   ]
  },
  {
   "cell_type": "code",
   "execution_count": 122,
   "metadata": {
    "collapsed": false
   },
   "outputs": [
    {
     "data": {
      "text/plain": [
       "{'all_symbols': 11718, 'df_size': 7780, 'df_symbols': 988, 'users': 1455}"
      ]
     },
     "execution_count": 122,
     "metadata": {},
     "output_type": "execute_result"
    }
   ],
   "source": [
    "{\"df_size\": len(df.index), \n",
    " \"users\": len(list(set(df[\"user_id\"]))), \n",
    " \"df_symbols\": len(list(set(df[\"symbol\"]))), \n",
    " \"all_symbols\": len(symbol_title)}"
   ]
  },
  {
   "cell_type": "code",
   "execution_count": 127,
   "metadata": {
    "collapsed": false
   },
   "outputs": [],
   "source": [
    "network = nx.Graph()\n",
    "\n",
    "#create a dictionary of {tweet_id : [symbols]}\n",
    "dict1 = {}\n",
    "rdf = df.groupby(\"tweet_id\")\n",
    "for tweet_id in list(set(df.tweet_id.values)):\n",
    "    dict1[tweet_id] = list(rdf.get_group(tweet_id).symbol.values) \n",
    "\n",
    "#Create and save the weighted graph for use in Gephi\n",
    "for key, value in dict1.items():\n",
    "    for tup in list(itertools.combinations(value, 2)):        \n",
    "        source = tup[0]\n",
    "        target = tup[1] \n",
    "        if source != target:\n",
    "            if network.has_edge(source, target) == True:            \n",
    "                #network[source][target][\"weight\"] += 1\n",
    "                pass\n",
    "            else:\n",
    "                network.add_nodes_from([source, target])\n",
    "                network.add_edge(source, target, weight=1, key=str(key), date=df[\"date\"][df[\"tweet_id\"]==key].values[0])"
   ]
  },
  {
   "cell_type": "code",
   "execution_count": 128,
   "metadata": {
    "collapsed": false
   },
   "outputs": [],
   "source": [
    "#Add node attributes \n",
    "nodes  = []\n",
    "titles = {}\n",
    "for node in network.nodes():\n",
    "    titles[node] = df[\"title\"][df.symbol==node].values[0]\n",
    "    nodes.append({\"name\": node, \"title\": df[\"title\"][df.symbol==node].values[0]})\n",
    "\n",
    "nx.set_node_attributes(network, \"Title\", titles)\n",
    "nx.write_gexf(network, \"symbol_graph.gexf\")"
   ]
  },
  {
   "cell_type": "code",
   "execution_count": 129,
   "metadata": {
    "collapsed": false
   },
   "outputs": [],
   "source": [
    "#save the unweighted graph for use in R\n",
    "data = []\n",
    "node_list = list(network.nodes())\n",
    "\n",
    "for (source, target) in network.edges():\n",
    "    data.append({\"value\": 1.0, \n",
    "                 \"id\": network[source][target][\"key\"],\n",
    "                 \"date\": network[source][target][\"date\"],\n",
    "                 \"source\": node_list.index(source), \n",
    "                 \"target\": node_list.index(target)\n",
    "                })    \n",
    "\n",
    "links = pd.DataFrame(data)\n",
    "nodes = pd.DataFrame(nodes)\n",
    "links.to_csv(\"Rlinks.csv\", index=False, encoding=\"utf-8\")\n",
    "nodes.to_csv(\"Rnodes.csv\", index=False, encoding=\"utf-8\")"
   ]
  }
 ],
 "metadata": {
  "kernelspec": {
   "display_name": "Python 3",
   "language": "python",
   "name": "python3"
  },
  "language_info": {
   "codemirror_mode": {
    "name": "ipython",
    "version": 3
   },
   "file_extension": ".py",
   "mimetype": "text/x-python",
   "name": "python",
   "nbconvert_exporter": "python",
   "pygments_lexer": "ipython3",
   "version": "3.5.1"
  }
 },
 "nbformat": 4,
 "nbformat_minor": 0
}
