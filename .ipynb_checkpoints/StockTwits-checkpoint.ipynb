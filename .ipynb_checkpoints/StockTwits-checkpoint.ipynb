{
 "cells": [
  {
   "cell_type": "code",
   "execution_count": 194,
   "metadata": {
    "collapsed": false
   },
   "outputs": [],
   "source": [
    "%matplotlib inline\n",
    "\n",
    "import re\n",
    "import json\n",
    "import time\n",
    "import random\n",
    "import os.path\n",
    "import requests\n",
    "import warnings\n",
    "import itertools\n",
    "import urllib.parse\n",
    "import urllib.request\n",
    "\n",
    "import numpy as np\n",
    "import pandas as pd\n",
    "import networkx as nx\n",
    "import matplotlib.pyplot as plt\n",
    "\n",
    "from datetime import datetime\n",
    "\n",
    "plt.rcParams[\"figure.figsize\"] = (15.0, 7.5)"
   ]
  },
  {
   "cell_type": "code",
   "execution_count": 195,
   "metadata": {
    "collapsed": false
   },
   "outputs": [
    {
     "data": {
      "text/html": [
       "<div>\n",
       "<table border=\"1\" class=\"dataframe\">\n",
       "  <thead>\n",
       "    <tr style=\"text-align: right;\">\n",
       "      <th></th>\n",
       "      <th>symbol</th>\n",
       "      <th>sector</th>\n",
       "      <th>industry</th>\n",
       "    </tr>\n",
       "    <tr>\n",
       "      <th>name</th>\n",
       "      <th></th>\n",
       "      <th></th>\n",
       "      <th></th>\n",
       "    </tr>\n",
       "  </thead>\n",
       "  <tbody>\n",
       "    <tr>\n",
       "      <th>AAC Holdings</th>\n",
       "      <td>AAC</td>\n",
       "      <td>Conglomerates</td>\n",
       "      <td>Conglomerates</td>\n",
       "    </tr>\n",
       "    <tr>\n",
       "      <th>Almaden Minerals Ltd.</th>\n",
       "      <td>AAU</td>\n",
       "      <td>Basic Materials</td>\n",
       "      <td>Industrial Metals &amp; Minerals</td>\n",
       "    </tr>\n",
       "    <tr>\n",
       "      <th>American Biltrite Inc.</th>\n",
       "      <td>ABL</td>\n",
       "      <td>Consumer Goods</td>\n",
       "      <td>Rubber &amp; Plastics</td>\n",
       "    </tr>\n",
       "    <tr>\n",
       "      <th>Acme United Corp.</th>\n",
       "      <td>ACU</td>\n",
       "      <td>Consumer Goods</td>\n",
       "      <td>Office Supplies</td>\n",
       "    </tr>\n",
       "    <tr>\n",
       "      <th>AeroCentury Corp.</th>\n",
       "      <td>ACY</td>\n",
       "      <td>Services</td>\n",
       "      <td>Rental &amp; Leasing Services</td>\n",
       "    </tr>\n",
       "  </tbody>\n",
       "</table>\n",
       "</div>"
      ],
      "text/plain": [
       "                       symbol           sector                      industry\n",
       "name                                                                        \n",
       "AAC Holdings              AAC    Conglomerates                 Conglomerates\n",
       "Almaden Minerals Ltd.     AAU  Basic Materials  Industrial Metals & Minerals\n",
       "American Biltrite Inc.    ABL   Consumer Goods             Rubber & Plastics\n",
       "Acme United Corp.         ACU   Consumer Goods               Office Supplies\n",
       "AeroCentury Corp.         ACY         Services     Rental & Leasing Services"
      ]
     },
     "execution_count": 195,
     "metadata": {},
     "output_type": "execute_result"
    }
   ],
   "source": [
    "#Read in the symbol title dataframe\n",
    "symbol_title = pd.read_csv(\"symbol_title.csv\", index_col=2, sep=\",\")\n",
    "symbol_title = symbol_title[[\"symbol\",\"sector\",\"industry\"]]\n",
    "symbol_title.head()"
   ]
  },
  {
   "cell_type": "code",
   "execution_count": 196,
   "metadata": {
    "collapsed": false
   },
   "outputs": [],
   "source": [
    "security = pd.read_csv(\"security.csv\", encoding=\"utf8\")"
   ]
  },
  {
   "cell_type": "code",
   "execution_count": 197,
   "metadata": {
    "collapsed": true
   },
   "outputs": [],
   "source": [
    "#Allows an application to request user authorization. \n",
    "def oauth_authorize():    \n",
    "    url = \"https://api.stocktwits.com/api/2/oauth/authorize\"                \n",
    "    params = urllib.parse.urlencode({\"client_id\": security[\"client_id\"][0], \n",
    "                                     \"response_type\": \"token\",\n",
    "                                     \"redirect_uri\": \"https://sites.google.com/site/noelnamai/\",\n",
    "                                     \"scope\": \"read,watch_lists,publish_messages,publish_watch_lists,follow_users,follow_stocks\"\n",
    "                                    })    \n",
    "    oauth = urllib.request.urlopen(url, params.encode(\"UTF-8\"))    \n",
    "    return oauth"
   ]
  },
  {
   "cell_type": "code",
   "execution_count": 198,
   "metadata": {
    "collapsed": false
   },
   "outputs": [],
   "source": [
    "oauth = oauth_authorize()"
   ]
  },
  {
   "cell_type": "code",
   "execution_count": 199,
   "metadata": {
    "collapsed": false
   },
   "outputs": [],
   "source": [
    "#Returns the most recent 30 messages for the specified symbol. Includes symbol object in response.\n",
    "def stream_symbol(symbol):\n",
    "    url = \"https://api.stocktwits.com/api/2/streams/symbol/\" + str(symbol) + \".json\"\n",
    "    try:\n",
    "        content = requests.get(url).json()\n",
    "    except Exception as error:\n",
    "        raise Exception(\"Method: stream_symbol \" + \"Error: \" + error)\n",
    "    return content"
   ]
  },
  {
   "cell_type": "code",
   "execution_count": 200,
   "metadata": {
    "collapsed": false
   },
   "outputs": [],
   "source": [
    "#Returns the most recent 30 messages with trending symbols in the last 5 minutes.\n",
    "def stream_trending():             \n",
    "    url = \"https://api.stocktwits.com/api/2/streams/trending.json\"\n",
    "    payload = {\"access_token\": security[\"access_token\"][0]}\n",
    "    try:    \n",
    "        content = requests.get(url, params=payload).json()\n",
    "    except Exception as error:\n",
    "        raise Exception(\"Method: stream_trending \" + \"Error: \" + error) \n",
    "    return content"
   ]
  },
  {
   "cell_type": "code",
   "execution_count": 201,
   "metadata": {
    "collapsed": false
   },
   "outputs": [],
   "source": [
    "#Returns the most recent 30 symbols in the last 5 minutes.\n",
    "def get_symbols():\n",
    "    symbols = []\n",
    "    data = stream_trending()\n",
    "    code = data[\"response\"][\"status\"] \n",
    "    for tweet in data[\"messages\"]:\n",
    "        for symbol in tweet[\"symbols\"]:\n",
    "            symbols.append(symbol[\"symbol\"])\n",
    "    return code, symbols"
   ]
  },
  {
   "cell_type": "code",
   "execution_count": 202,
   "metadata": {
    "collapsed": false
   },
   "outputs": [],
   "source": [
    "#Creates a dataframe from JSON data returned by the API.\n",
    "def create_dataframe(data): \n",
    "    response = [] \n",
    "    code = data[\"response\"][\"status\"]                                  \n",
    "    if code == 200: \n",
    "        for tweet in data[\"messages\"]:\n",
    "            for symbol in tweet[\"symbols\"]:\n",
    "                utc = tweet[\"created_at\"]\n",
    "                row = {\"symbol\": symbol[\"symbol\"],\n",
    "                       \"title\": symbol[\"title\"],\n",
    "                       \"tweet_id\": tweet[\"id\"],\n",
    "                       \"text\": tweet[\"body\"],\n",
    "                       \"date\": datetime.strptime(utc, \"%Y-%m-%dT%H:%M:%SZ\").date(),\n",
    "                       \"time\": datetime.strptime(utc, \"%Y-%m-%dT%H:%M:%SZ\").time(),\n",
    "                       \"name\": tweet[\"user\"][\"name\"],\n",
    "                       \"user_id\": str(tweet[\"user\"][\"id\"]),\n",
    "                       \"user_name\": str(tweet[\"user\"][\"username\"])}\n",
    "                response.append(row) \n",
    "    else: \n",
    "        raise Exception(\"Method: create_dataframe \" + \"Error: \" + str(data[\"errors\"][0][\"message\"]))\n",
    "    df = pd.DataFrame(response)\n",
    "    return code, df"
   ]
  },
  {
   "cell_type": "code",
   "execution_count": 203,
   "metadata": {
    "collapsed": true
   },
   "outputs": [],
   "source": [
    "#Clean the data frame and fill in the missing data\n",
    "def clean_dataframe(df):\n",
    "    df = df.drop_duplicates()    \n",
    "    df = df.dropna() \n",
    "    df[\"tweet_id\"] = df[\"tweet_id\"].astype(\"int\")\n",
    "    df.sort_values([\"tweet_id\",\"time\"], ascending=True, inplace=True)\n",
    "    df[\"index\"] = range(len(df))\n",
    "    df = df.set_index(\"index\")\n",
    "    return df"
   ]
  },
  {
   "cell_type": "code",
   "execution_count": 204,
   "metadata": {
    "collapsed": true
   },
   "outputs": [],
   "source": [
    "#Fill in the data \"sector\" and \"industry\" to the main dataframe.\n",
    "def fill_dataframe(x):   \n",
    "    symbol = list(set(x[\"symbol\"].values))[0]\n",
    "    sector = symbol_title[\"sector\"][symbol_title[\"symbol\"] == symbol].values\n",
    "    industry = symbol_title[\"industry\"][symbol_title[\"symbol\"] == symbol].values\n",
    "    x[\"sector\"] = sector[0] if len(sector) == 1 else np.nan\n",
    "    x[\"industry\"] = industry[0] if len(industry) == 1 else np.nan   \n",
    "    return x"
   ]
  },
  {
   "cell_type": "code",
   "execution_count": 205,
   "metadata": {
    "collapsed": false
   },
   "outputs": [],
   "source": [
    "#Read data frame. Creat a new one if non exists.\n",
    "#df = pd.DataFrame(columns=[\"date\",\"name\",\"symbol\",\"text\",\"time\",\"title\",\"tweet_id\",\"user_id\",\"user_name\"])\n",
    "df = pd.read_csv(\"stocktwits_df.csv\", encoding=\"utf8\")  \n",
    "\n",
    "#Get trending symbols and start building a dataframe from them.\n",
    "code, symbols = get_symbols()\n",
    "np.random.shuffle(symbols)\n",
    "for symbol in symbols:\n",
    "    data = stream_symbol(symbol)\n",
    "    code, df2 = create_dataframe(data)\n",
    "    df = df.append(df2) \n",
    "    df = clean_dataframe(df)                  \n",
    "    df.to_csv(\"stocktwits_df.csv\", index=False, encoding=\"utf-8\") \n",
    "    time.sleep(20)"
   ]
  },
  {
   "cell_type": "code",
   "execution_count": 206,
   "metadata": {
    "collapsed": false
   },
   "outputs": [
    {
     "data": {
      "text/html": [
       "<div>\n",
       "<table border=\"1\" class=\"dataframe\">\n",
       "  <thead>\n",
       "    <tr style=\"text-align: right;\">\n",
       "      <th></th>\n",
       "      <th>date</th>\n",
       "      <th>name</th>\n",
       "      <th>symbol</th>\n",
       "      <th>time</th>\n",
       "      <th>title</th>\n",
       "      <th>tweet_id</th>\n",
       "      <th>user_id</th>\n",
       "      <th>user_name</th>\n",
       "    </tr>\n",
       "    <tr>\n",
       "      <th>index</th>\n",
       "      <th></th>\n",
       "      <th></th>\n",
       "      <th></th>\n",
       "      <th></th>\n",
       "      <th></th>\n",
       "      <th></th>\n",
       "      <th></th>\n",
       "      <th></th>\n",
       "    </tr>\n",
       "  </thead>\n",
       "  <tbody>\n",
       "    <tr>\n",
       "      <th>0</th>\n",
       "      <td>2016-08-05</td>\n",
       "      <td>MrBullish</td>\n",
       "      <td>CNIT</td>\n",
       "      <td>08:00:51</td>\n",
       "      <td>China Information Technology, Inc.</td>\n",
       "      <td>59938290</td>\n",
       "      <td>740192</td>\n",
       "      <td>MrStier</td>\n",
       "    </tr>\n",
       "    <tr>\n",
       "      <th>1</th>\n",
       "      <td>2016-08-08</td>\n",
       "      <td>gameplan.xyz</td>\n",
       "      <td>IJH</td>\n",
       "      <td>14:10:44</td>\n",
       "      <td>iShares S&amp;P MidCap 400 Index</td>\n",
       "      <td>60080794</td>\n",
       "      <td>719430</td>\n",
       "      <td>gameplan</td>\n",
       "    </tr>\n",
       "    <tr>\n",
       "      <th>2</th>\n",
       "      <td>2016-08-10</td>\n",
       "      <td>Jeff Biggs</td>\n",
       "      <td>CNIT</td>\n",
       "      <td>18:38:28</td>\n",
       "      <td>China Information Technology, Inc.</td>\n",
       "      <td>60308657</td>\n",
       "      <td>812139</td>\n",
       "      <td>DayTradeStock</td>\n",
       "    </tr>\n",
       "    <tr>\n",
       "      <th>3</th>\n",
       "      <td>2016-08-10</td>\n",
       "      <td>MrBullish</td>\n",
       "      <td>CNIT</td>\n",
       "      <td>20:30:10</td>\n",
       "      <td>China Information Technology, Inc.</td>\n",
       "      <td>60322147</td>\n",
       "      <td>740192</td>\n",
       "      <td>MrStier</td>\n",
       "    </tr>\n",
       "    <tr>\n",
       "      <th>4</th>\n",
       "      <td>2016-08-14</td>\n",
       "      <td>Financhill</td>\n",
       "      <td>IJH</td>\n",
       "      <td>04:43:07</td>\n",
       "      <td>iShares S&amp;P MidCap 400 Index</td>\n",
       "      <td>60551656</td>\n",
       "      <td>692735</td>\n",
       "      <td>Financhill</td>\n",
       "    </tr>\n",
       "  </tbody>\n",
       "</table>\n",
       "</div>"
      ],
      "text/plain": [
       "             date          name symbol      time  \\\n",
       "index                                              \n",
       "0      2016-08-05     MrBullish   CNIT  08:00:51   \n",
       "1      2016-08-08  gameplan.xyz    IJH  14:10:44   \n",
       "2      2016-08-10    Jeff Biggs   CNIT  18:38:28   \n",
       "3      2016-08-10     MrBullish   CNIT  20:30:10   \n",
       "4      2016-08-14    Financhill    IJH  04:43:07   \n",
       "\n",
       "                                    title  tweet_id user_id      user_name  \n",
       "index                                                                       \n",
       "0      China Information Technology, Inc.  59938290  740192        MrStier  \n",
       "1            iShares S&P MidCap 400 Index  60080794  719430       gameplan  \n",
       "2      China Information Technology, Inc.  60308657  812139  DayTradeStock  \n",
       "3      China Information Technology, Inc.  60322147  740192        MrStier  \n",
       "4            iShares S&P MidCap 400 Index  60551656  692735     Financhill  "
      ]
     },
     "execution_count": 206,
     "metadata": {},
     "output_type": "execute_result"
    }
   ],
   "source": [
    "df = df.groupby(\"symbol\").apply(fill_dataframe)\n",
    "df[\"count\"] = df.groupby([\"symbol\"])[\"user_name\"].transform(\"count\")\n",
    "df[[\"date\",\"name\",\"symbol\",\"time\",\"title\",\"tweet_id\",\"user_id\",\"user_name\"]].head()"
   ]
  },
  {
   "cell_type": "code",
   "execution_count": 207,
   "metadata": {
    "collapsed": false
   },
   "outputs": [
    {
     "data": {
      "image/png": "[encoded data removed]",
      "text/plain": [
       "<matplotlib.figure.Figure at 0x2848c0439b0>"
      ]
     },
     "metadata": {},
     "output_type": "display_data"
    }
   ],
   "source": [
    "df[\"date\"] = df[\"date\"].astype(str)\n",
    "counts = df.groupby(\"date\")[\"date\"].count()\n",
    "counts.sort_index(ascending=True, inplace=True)\n",
    "counts.plot(kind=\"bar\");"
   ]
  },
  {
   "cell_type": "code",
   "execution_count": 208,
   "metadata": {
    "collapsed": false
   },
   "outputs": [
    {
     "data": {
      "text/html": [
       "<div>\n",
       "<table border=\"1\" class=\"dataframe\">\n",
       "  <thead>\n",
       "    <tr style=\"text-align: right;\">\n",
       "      <th></th>\n",
       "      <th>date</th>\n",
       "      <th>name</th>\n",
       "      <th>symbol</th>\n",
       "      <th>time</th>\n",
       "      <th>title</th>\n",
       "      <th>tweet_id</th>\n",
       "      <th>user_id</th>\n",
       "      <th>user_name</th>\n",
       "    </tr>\n",
       "    <tr>\n",
       "      <th>index</th>\n",
       "      <th></th>\n",
       "      <th></th>\n",
       "      <th></th>\n",
       "      <th></th>\n",
       "      <th></th>\n",
       "      <th></th>\n",
       "      <th></th>\n",
       "      <th></th>\n",
       "    </tr>\n",
       "  </thead>\n",
       "  <tbody>\n",
       "    <tr>\n",
       "      <th>0</th>\n",
       "      <td>2016-10-12</td>\n",
       "      <td>Greg Feirman</td>\n",
       "      <td>FTNT</td>\n",
       "      <td>00:00:13</td>\n",
       "      <td>Fortinet Inc.</td>\n",
       "      <td>64514177</td>\n",
       "      <td>144909</td>\n",
       "      <td>TopGunFP</td>\n",
       "    </tr>\n",
       "    <tr>\n",
       "      <th>1</th>\n",
       "      <td>2016-10-12</td>\n",
       "      <td>Daily_Investor</td>\n",
       "      <td>SPY</td>\n",
       "      <td>00:01:41</td>\n",
       "      <td>SPDR S&amp;P 500</td>\n",
       "      <td>64514225</td>\n",
       "      <td>569812</td>\n",
       "      <td>Daily_Investor</td>\n",
       "    </tr>\n",
       "    <tr>\n",
       "      <th>2</th>\n",
       "      <td>2016-10-12</td>\n",
       "      <td>Elliottwave Forecast</td>\n",
       "      <td>AAPL</td>\n",
       "      <td>00:01:45</td>\n",
       "      <td>Apple Inc.</td>\n",
       "      <td>64514227</td>\n",
       "      <td>128933</td>\n",
       "      <td>ElliottForecast</td>\n",
       "    </tr>\n",
       "    <tr>\n",
       "      <th>3</th>\n",
       "      <td>2016-10-12</td>\n",
       "      <td>Anhvu</td>\n",
       "      <td>DEPO</td>\n",
       "      <td>00:01:45</td>\n",
       "      <td>DepoMed Inc.</td>\n",
       "      <td>64514228</td>\n",
       "      <td>828087</td>\n",
       "      <td>Luck689</td>\n",
       "    </tr>\n",
       "    <tr>\n",
       "      <th>4</th>\n",
       "      <td>2016-10-12</td>\n",
       "      <td>Anhvu</td>\n",
       "      <td>ISIL</td>\n",
       "      <td>00:01:45</td>\n",
       "      <td>Intersil Corporation</td>\n",
       "      <td>64514228</td>\n",
       "      <td>828087</td>\n",
       "      <td>Luck689</td>\n",
       "    </tr>\n",
       "  </tbody>\n",
       "</table>\n",
       "</div>"
      ],
      "text/plain": [
       "             date                  name symbol      time  \\\n",
       "index                                                      \n",
       "0      2016-10-12          Greg Feirman   FTNT  00:00:13   \n",
       "1      2016-10-12        Daily_Investor    SPY  00:01:41   \n",
       "2      2016-10-12  Elliottwave Forecast   AAPL  00:01:45   \n",
       "3      2016-10-12                 Anhvu   DEPO  00:01:45   \n",
       "4      2016-10-12                 Anhvu   ISIL  00:01:45   \n",
       "\n",
       "                      title  tweet_id user_id        user_name  \n",
       "index                                                           \n",
       "0             Fortinet Inc.  64514177  144909         TopGunFP  \n",
       "1              SPDR S&P 500  64514225  569812   Daily_Investor  \n",
       "2                Apple Inc.  64514227  128933  ElliottForecast  \n",
       "3              DepoMed Inc.  64514228  828087          Luck689  \n",
       "4      Intersil Corporation  64514228  828087          Luck689  "
      ]
     },
     "execution_count": 208,
     "metadata": {},
     "output_type": "execute_result"
    }
   ],
   "source": [
    "df = clean_dataframe(df[df[\"date\"]==\"2016-10-12\"])\n",
    "df[[\"date\",\"name\",\"symbol\",\"time\",\"title\",\"tweet_id\",\"user_id\",\"user_name\"]].head()"
   ]
  },
  {
   "cell_type": "code",
   "execution_count": 209,
   "metadata": {
    "collapsed": false
   },
   "outputs": [],
   "source": [
    "network = nx.Graph()\n",
    "\n",
    "#create a dictionary of {tweet_id : [symbols]}\n",
    "dict1 = {}\n",
    "rdf = df.groupby(\"tweet_id\")\n",
    "for tweet_id in list(set(df.tweet_id.values)):\n",
    "    dict1[tweet_id] = list(rdf.get_group(tweet_id).symbol.values) \n",
    "\n",
    "#Create and save the weighted graph for use in Gephi\n",
    "for key, value in dict1.items():\n",
    "    for tup in list(itertools.combinations(value, 2)):        \n",
    "        source = tup[0]\n",
    "        target = tup[1] \n",
    "        if source != target:\n",
    "            if network.has_edge(source, target) == True:            \n",
    "                #network[source][target][\"weight\"] += 1\n",
    "                pass\n",
    "            else:\n",
    "                date = df[\"date\"][df[\"tweet_id\"]==key].values[0]\n",
    "                network.add_nodes_from([source, target])\n",
    "                network.add_edge(source, target, weight=1, key=str(key), date=str(date))"
   ]
  },
  {
   "cell_type": "code",
   "execution_count": 210,
   "metadata": {
    "collapsed": false
   },
   "outputs": [
    {
     "name": "stdout",
     "output_type": "stream",
     "text": [
      "Number of nodes: 494\n",
      "Number of edges: 3150\n",
      "\n",
      "Minimum degree : 1\n",
      "Maximum degree : 140\n",
      "\n",
      "Average degree : 12.7530364372\n"
     ]
    }
   ],
   "source": [
    "N = len(network)\n",
    "L = network.size()\n",
    "degrees = list(network.degree().values())\n",
    "kmin = min(degrees)\n",
    "kmax = max(degrees)\n",
    "\n",
    "print(\"Number of nodes:\", N)\n",
    "print(\"Number of edges:\", L)\n",
    "print()\n",
    "print(\"Minimum degree :\", kmin)\n",
    "print(\"Maximum degree :\", kmax)\n",
    "print()\n",
    "print(\"Average degree :\", np.mean(degrees))"
   ]
  },
  {
   "cell_type": "code",
   "execution_count": 211,
   "metadata": {
    "collapsed": false
   },
   "outputs": [],
   "source": [
    "#Add node attributes \n",
    "nodes  = []\n",
    "titles = {}\n",
    "for node in network.nodes():\n",
    "    titles[node] = df[\"title\"][df.symbol==node].values[0]\n",
    "    nodes.append({\"name\": node, \"title\": df[\"title\"][df.symbol==node].values[0]})\n",
    "\n",
    "nx.set_node_attributes(network, \"Title\", titles)\n",
    "nx.write_gexf(network, \"symbol_graph.gexf\")"
   ]
  },
  {
   "cell_type": "code",
   "execution_count": 212,
   "metadata": {
    "collapsed": false
   },
   "outputs": [],
   "source": [
    "#save the unweighted graph for use in R\n",
    "data = []\n",
    "node_list = list(network.nodes())\n",
    "\n",
    "for (source, target) in network.edges():\n",
    "    data.append({\"value\": 1.0, \n",
    "                 \"id\": network[source][target][\"key\"],\n",
    "                 \"date\": network[source][target][\"date\"],\n",
    "                 \"source\": node_list.index(source), \n",
    "                 \"target\": node_list.index(target)\n",
    "                })    \n",
    "\n",
    "links = pd.DataFrame(data)\n",
    "nodes = pd.DataFrame(nodes)\n",
    "links.to_csv(\"Rlinks.csv\", index=False, encoding=\"utf-8\")\n",
    "nodes.to_csv(\"Rnodes.csv\", index=False, encoding=\"utf-8\")"
   ]
  },
  {
   "cell_type": "code",
   "execution_count": 213,
   "metadata": {
    "collapsed": false
   },
   "outputs": [],
   "source": [
    "#Get 10 logarithmically spaced bins between kmin and kmax\n",
    "bin_edges = np.logspace(np.log10(kmin), np.log10(kmax), num=10)\n",
    "\n",
    "#histogram the data into these bins\n",
    "density, _ = np.histogram(degrees, bins=bin_edges, density=True)"
   ]
  },
  {
   "cell_type": "code",
   "execution_count": 214,
   "metadata": {
    "collapsed": false
   },
   "outputs": [
    {
     "data": {
      "image/png": "[encoded data removed]",
      "text/plain": [
       "<matplotlib.figure.Figure at 0x2848c9f0160>"
      ]
     },
     "metadata": {},
     "output_type": "display_data"
    }
   ],
   "source": [
    "fig = plt.figure(figsize=(5, 5), dpi=100)\n",
    "\n",
    "#\"x\" should be midpoint (IN LOG SPACE) of each bin\n",
    "log_be = np.log10(bin_edges)\n",
    "x = 10**((log_be[1:] + log_be[:-1])/2)\n",
    "\n",
    "plt.loglog(x, density, marker='o', linestyle='none')\n",
    "plt.xlabel(r\"degree $k$\", fontsize=16)\n",
    "plt.ylabel(r\"$P(k)$\", fontsize=16)\n",
    "#plt.xlim([0,1000])\n",
    "\n",
    "#remove right and top boundaries because they're ugly\n",
    "ax = plt.gca()\n",
    "ax.spines['right'].set_visible(False)\n",
    "ax.spines['top'].set_visible(False)\n",
    "ax.yaxis.set_ticks_position('left')\n",
    "ax.xaxis.set_ticks_position('bottom')\n",
    "\n",
    "#Show the plot\n",
    "plt.show()"
   ]
  }
 ],
 "metadata": {
  "kernelspec": {
   "display_name": "Python 3",
   "language": "python",
   "name": "python3"
  },
  "language_info": {
   "codemirror_mode": {
    "name": "ipython",
    "version": 3
   },
   "file_extension": ".py",
   "mimetype": "text/x-python",
   "name": "python",
   "nbconvert_exporter": "python",
   "pygments_lexer": "ipython3",
   "version": "3.5.1"
  }
 },
 "nbformat": 4,
 "nbformat_minor": 0
}
