{
 "cells": [
  {
   "cell_type": "code",
   "execution_count": 628,
   "metadata": {
    "collapsed": false
   },
   "outputs": [],
   "source": [
    "%matplotlib inline\n",
    "\n",
    "import re\n",
    "import json\n",
    "import time\n",
    "import random\n",
    "import os.path\n",
    "import requests\n",
    "import warnings\n",
    "import itertools\n",
    "import urllib.parse\n",
    "import urllib.request\n",
    "\n",
    "import numpy as np\n",
    "import pandas as pd\n",
    "import networkx as nx\n",
    "import matplotlib.pyplot as plt\n",
    "\n",
    "from datetime import datetime\n",
    "from sklearn import preprocessing\n",
    "\n",
    "plt.style.use([\"seaborn-whitegrid\"])\n",
    "plt.rcParams[\"figure.figsize\"] = (10, 5)\n",
    "\n",
    "#print(plt.style.available)"
   ]
  },
  {
   "cell_type": "code",
   "execution_count": 629,
   "metadata": {
    "collapsed": false
   },
   "outputs": [
    {
     "data": {
      "text/html": [
       "<div>\n",
       "<table border=\"1\" class=\"dataframe\">\n",
       "  <thead>\n",
       "    <tr style=\"text-align: right;\">\n",
       "      <th></th>\n",
       "      <th>symbol</th>\n",
       "      <th>sector</th>\n",
       "      <th>industry</th>\n",
       "    </tr>\n",
       "    <tr>\n",
       "      <th>name</th>\n",
       "      <th></th>\n",
       "      <th></th>\n",
       "      <th></th>\n",
       "    </tr>\n",
       "  </thead>\n",
       "  <tbody>\n",
       "    <tr>\n",
       "      <th>AAC Holdings</th>\n",
       "      <td>AAC</td>\n",
       "      <td>Conglomerates</td>\n",
       "      <td>Conglomerates</td>\n",
       "    </tr>\n",
       "    <tr>\n",
       "      <th>Almaden Minerals Ltd.</th>\n",
       "      <td>AAU</td>\n",
       "      <td>Basic Materials</td>\n",
       "      <td>Industrial Metals &amp; Minerals</td>\n",
       "    </tr>\n",
       "    <tr>\n",
       "      <th>American Biltrite Inc.</th>\n",
       "      <td>ABL</td>\n",
       "      <td>Consumer Goods</td>\n",
       "      <td>Rubber &amp; Plastics</td>\n",
       "    </tr>\n",
       "    <tr>\n",
       "      <th>Acme United Corp.</th>\n",
       "      <td>ACU</td>\n",
       "      <td>Consumer Goods</td>\n",
       "      <td>Office Supplies</td>\n",
       "    </tr>\n",
       "    <tr>\n",
       "      <th>AeroCentury Corp.</th>\n",
       "      <td>ACY</td>\n",
       "      <td>Services</td>\n",
       "      <td>Rental &amp; Leasing Services</td>\n",
       "    </tr>\n",
       "  </tbody>\n",
       "</table>\n",
       "</div>"
      ],
      "text/plain": [
       "                       symbol           sector                      industry\n",
       "name                                                                        \n",
       "AAC Holdings              AAC    Conglomerates                 Conglomerates\n",
       "Almaden Minerals Ltd.     AAU  Basic Materials  Industrial Metals & Minerals\n",
       "American Biltrite Inc.    ABL   Consumer Goods             Rubber & Plastics\n",
       "Acme United Corp.         ACU   Consumer Goods               Office Supplies\n",
       "AeroCentury Corp.         ACY         Services     Rental & Leasing Services"
      ]
     },
     "execution_count": 629,
     "metadata": {},
     "output_type": "execute_result"
    }
   ],
   "source": [
    "#Read in the symbol title dataframe\n",
    "symbol_title = pd.read_csv(\"symbol_title.csv\", index_col=2, sep=\",\")\n",
    "symbol_title = symbol_title[[\"symbol\",\"sector\",\"industry\"]]\n",
    "symbol_title.dropna(inplace=True)\n",
    "symbol_title.head()"
   ]
  },
  {
   "cell_type": "code",
   "execution_count": 630,
   "metadata": {
    "collapsed": false
   },
   "outputs": [],
   "source": [
    "security = pd.read_csv(\"security.csv\", encoding=\"utf8\")"
   ]
  },
  {
   "cell_type": "code",
   "execution_count": 631,
   "metadata": {
    "collapsed": true
   },
   "outputs": [],
   "source": [
    "#Allows an application to request user authorization. \n",
    "def oauth_authorize():    \n",
    "    url = \"https://api.stocktwits.com/api/2/oauth/authorize\"                \n",
    "    params = urllib.parse.urlencode({\"client_id\": security[\"client_id\"][0], \n",
    "                                     \"response_type\": \"token\",\n",
    "                                     \"redirect_uri\": \"https://sites.google.com/site/noelnamai/\",\n",
    "                                     \"scope\": \"read,watch_lists,publish_messages,publish_watch_lists,follow_users,follow_stocks\"\n",
    "                                    })    \n",
    "    oauth = urllib.request.urlopen(url, params.encode(\"UTF-8\"))    \n",
    "    return oauth"
   ]
  },
  {
   "cell_type": "code",
   "execution_count": 632,
   "metadata": {
    "collapsed": false
   },
   "outputs": [],
   "source": [
    "oauth = oauth_authorize()"
   ]
  },
  {
   "cell_type": "code",
   "execution_count": 633,
   "metadata": {
    "collapsed": false
   },
   "outputs": [],
   "source": [
    "#Returns the most recent 30 messages for the specified symbol. Includes symbol object in response.\n",
    "def stream_symbol(symbol):\n",
    "    url = \"https://api.stocktwits.com/api/2/streams/symbol/\" + str(symbol) + \".json\"\n",
    "    try:\n",
    "        content = requests.get(url).json()\n",
    "    except Exception as error:\n",
    "        raise Exception(\"Method: stream_symbol. Error: \" + str(error))\n",
    "    return content"
   ]
  },
  {
   "cell_type": "code",
   "execution_count": 634,
   "metadata": {
    "collapsed": false
   },
   "outputs": [],
   "source": [
    "#Returns the most recent 30 messages with trending symbols in the last 5 minutes.\n",
    "def stream_trending():             \n",
    "    url = \"https://api.stocktwits.com/api/2/streams/trending.json\"\n",
    "    payload = {\"access_token\": security[\"access_token\"][0]}\n",
    "    try:    \n",
    "        content = requests.get(url, params=payload).json()\n",
    "    except Exception as error:\n",
    "        raise Exception(\"Method: stream_trending. Error: \" + str(error))\n",
    "    return content"
   ]
  },
  {
   "cell_type": "code",
   "execution_count": 635,
   "metadata": {
    "collapsed": false
   },
   "outputs": [],
   "source": [
    "#Returns the most recent 30 symbols in the last 5 minutes.\n",
    "def get_symbols():\n",
    "    symbols = []\n",
    "    data = stream_trending()\n",
    "    code = data[\"response\"][\"status\"] \n",
    "    for tweet in data[\"messages\"]:\n",
    "        for symbol in tweet[\"symbols\"]:\n",
    "            symbols.append(symbol[\"symbol\"])\n",
    "    return code, symbols"
   ]
  },
  {
   "cell_type": "code",
   "execution_count": 636,
   "metadata": {
    "collapsed": false
   },
   "outputs": [],
   "source": [
    "#Creates a dataframe from JSON data returned by the API.\n",
    "def create_dataframe(data): \n",
    "    response = [] \n",
    "    code = data[\"response\"][\"status\"]                                  \n",
    "    if code == 200: \n",
    "        for tweet in data[\"messages\"]:\n",
    "            for symbol in tweet[\"symbols\"]:\n",
    "                utc = datetime.strptime(tweet[\"created_at\"], \"%Y-%m-%dT%H:%M:%SZ\")\n",
    "                row = {\"symbol\": symbol[\"symbol\"],\n",
    "                       \"title\": symbol[\"title\"],\n",
    "                       \"tweet_id\": tweet[\"id\"],\n",
    "                       \"text\": tweet[\"body\"],\n",
    "                       \"date\": str(utc.date()),\n",
    "                       \"time\": str(utc.time()),\n",
    "                       \"weekday\": utc.weekday(),\n",
    "                       \"name\": tweet[\"user\"][\"name\"],\n",
    "                       \"user_id\": str(tweet[\"user\"][\"id\"]),\n",
    "                       \"user_name\": str(tweet[\"user\"][\"username\"])}\n",
    "                response.append(row) \n",
    "    else: \n",
    "        raise Exception(\"Method: create_dataframe \" + \"Error: \" + str(data[\"errors\"][0][\"message\"]))\n",
    "    df = pd.DataFrame(response)\n",
    "    return code, df"
   ]
  },
  {
   "cell_type": "code",
   "execution_count": 637,
   "metadata": {
    "collapsed": true
   },
   "outputs": [],
   "source": [
    "#Clean the data frame and fill in the missing data\n",
    "def clean_dataframe(df):\n",
    "    df = df.drop_duplicates()    \n",
    "    df = df.dropna() \n",
    "    df[\"weekday\"] = df[\"weekday\"].astype(\"int\")\n",
    "    df[\"tweet_id\"] = df[\"tweet_id\"].astype(\"int\")\n",
    "    df.sort_values([\"tweet_id\",\"time\"], ascending=True, inplace=True)\n",
    "    df[\"index\"] = range(len(df))\n",
    "    df = df.set_index(\"index\")\n",
    "    return df"
   ]
  },
  {
   "cell_type": "code",
   "execution_count": 638,
   "metadata": {
    "collapsed": true
   },
   "outputs": [],
   "source": [
    "#Fill in the data \"sector\" and \"industry\" to the main dataframe.\n",
    "def fill_dataframe(x):   \n",
    "    symbol = list(set(x[\"symbol\"].values))[0]\n",
    "    sector = symbol_title[\"sector\"][symbol_title[\"symbol\"] == symbol].values\n",
    "    industry = symbol_title[\"industry\"][symbol_title[\"symbol\"] == symbol].values\n",
    "    x[\"sector\"] = sector[0] if len(sector) == 1 else np.nan\n",
    "    x[\"industry\"] = industry[0] if len(industry) == 1 else np.nan   \n",
    "    return x"
   ]
  },
  {
   "cell_type": "code",
   "execution_count": 639,
   "metadata": {
    "collapsed": false
   },
   "outputs": [],
   "source": [
    "def get_network_measures(network):\n",
    "    degree_list = list(network.degree().values())\n",
    "    N = len(network)\n",
    "    L = network.size()\n",
    "    kmin = min(degree_list)\n",
    "    kmax = max(degree_list)\n",
    "    print(\"\\nN :\", N, \n",
    "          \"\\nL :\", L, \n",
    "          \"\\nMinimum degree :\", kmin, \n",
    "          \"\\nMaximum degree :\", kmax, \n",
    "          \"\\nAverage degree :\", np.mean(degree_list))"
   ]
  },
  {
   "cell_type": "code",
   "execution_count": 640,
   "metadata": {
    "collapsed": true
   },
   "outputs": [],
   "source": [
    "def log_binning_plot(values, title):\n",
    "    kmin = min(values)\n",
    "    kmax = max(values)\n",
    "    \n",
    "    #Get n logarithmically spaced bins between kmin and kmax\n",
    "    bin_edges = np.logspace(np.log10(kmin), np.log10(kmax), num=10)\n",
    "    \n",
    "    #histogram the data into these bins\n",
    "    density, _ = np.histogram(values, bins=bin_edges, density=True)\n",
    "    \n",
    "    #\"x\" should be midpoint (IN LOG SPACE) of each bin\n",
    "    log_be = np.log10(bin_edges)\n",
    "    x = 10**((log_be[1:] + log_be[:-1])/2)\n",
    "    fig = plt.figure(figsize=(7.5,7.5))\n",
    "    plt.loglog(x, density, marker=\"o\", linestyle='none')\n",
    "    plt.xlabel(r\"degree $k$\", fontsize=12)\n",
    "    plt.ylabel(r\"$P(k)$\", fontsize=12)\n",
    "    plt.title(title, fontsize=16)\n",
    "    plt.show()"
   ]
  },
  {
   "cell_type": "code",
   "execution_count": 641,
   "metadata": {
    "collapsed": false
   },
   "outputs": [],
   "source": [
    "#Read data frame. Creat a new one if non exists.\n",
    "#df = pd.DataFrame(columns=[\"date\",\"name\",\"symbol\",\"text\",\"time\",\"weekday\",\"title\",\"tweet_id\",\"user_id\",\"user_name\"])\n",
    "df = pd.read_csv(\"stocktwits_df.csv\", encoding=\"utf8\")  \n",
    "\n",
    "#Get trending symbols and start building a dataframe from them.\n",
    "code, symbols = get_symbols()\n",
    "np.random.shuffle(symbols)\n",
    "for symbol in symbols:\n",
    "    data = stream_symbol(symbol)\n",
    "    code, df2 = create_dataframe(data)\n",
    "    df = df.append(df2) \n",
    "    df = clean_dataframe(df)    \n",
    "    df.to_csv(\"stocktwits_df.csv\", index=False, encoding=\"utf-8\") \n",
    "    time.sleep(20)"
   ]
  },
  {
   "cell_type": "code",
   "execution_count": 642,
   "metadata": {
    "collapsed": false
   },
   "outputs": [
    {
     "data": {
      "text/html": [
       "<div>\n",
       "<table border=\"1\" class=\"dataframe\">\n",
       "  <thead>\n",
       "    <tr style=\"text-align: right;\">\n",
       "      <th></th>\n",
       "      <th>date</th>\n",
       "      <th>name</th>\n",
       "      <th>symbol</th>\n",
       "      <th>time</th>\n",
       "      <th>hour</th>\n",
       "      <th>weekday</th>\n",
       "      <th>title</th>\n",
       "      <th>tweet_id</th>\n",
       "      <th>user_id</th>\n",
       "      <th>user_name</th>\n",
       "    </tr>\n",
       "  </thead>\n",
       "  <tbody>\n",
       "    <tr>\n",
       "      <th>0</th>\n",
       "      <td>2016-10-01</td>\n",
       "      <td>Andrew Kreimer</td>\n",
       "      <td>QTS</td>\n",
       "      <td>02:12:23</td>\n",
       "      <td>02</td>\n",
       "      <td>5</td>\n",
       "      <td>QTS Realty Trust</td>\n",
       "      <td>63822111</td>\n",
       "      <td>784233</td>\n",
       "      <td>algonell</td>\n",
       "    </tr>\n",
       "    <tr>\n",
       "      <th>1</th>\n",
       "      <td>2016-10-01</td>\n",
       "      <td>MarketBeat.com (Formerly ARN)</td>\n",
       "      <td>SLF</td>\n",
       "      <td>03:47:49</td>\n",
       "      <td>03</td>\n",
       "      <td>5</td>\n",
       "      <td>Sun Life Financial Inc.</td>\n",
       "      <td>63824307</td>\n",
       "      <td>284225</td>\n",
       "      <td>AnalystRatingsNetwork</td>\n",
       "    </tr>\n",
       "    <tr>\n",
       "      <th>2</th>\n",
       "      <td>2016-10-01</td>\n",
       "      <td>Ben Silverberg</td>\n",
       "      <td>DECK</td>\n",
       "      <td>08:58:31</td>\n",
       "      <td>08</td>\n",
       "      <td>5</td>\n",
       "      <td>Deckers Outdoor Corp.</td>\n",
       "      <td>63827014</td>\n",
       "      <td>2843</td>\n",
       "      <td>silverjet2</td>\n",
       "    </tr>\n",
       "    <tr>\n",
       "      <th>3</th>\n",
       "      <td>2016-10-01</td>\n",
       "      <td>Ben Silverberg</td>\n",
       "      <td>ENDP</td>\n",
       "      <td>08:58:31</td>\n",
       "      <td>08</td>\n",
       "      <td>5</td>\n",
       "      <td>Endo Pharmaceuticals Holdings Inc.</td>\n",
       "      <td>63827014</td>\n",
       "      <td>2843</td>\n",
       "      <td>silverjet2</td>\n",
       "    </tr>\n",
       "    <tr>\n",
       "      <th>4</th>\n",
       "      <td>2016-10-01</td>\n",
       "      <td>Ben Silverberg</td>\n",
       "      <td>DFT</td>\n",
       "      <td>08:58:31</td>\n",
       "      <td>08</td>\n",
       "      <td>5</td>\n",
       "      <td>DuPont Fabros Technology, Inc.</td>\n",
       "      <td>63827014</td>\n",
       "      <td>2843</td>\n",
       "      <td>silverjet2</td>\n",
       "    </tr>\n",
       "  </tbody>\n",
       "</table>\n",
       "</div>"
      ],
      "text/plain": [
       "         date                           name symbol      time hour  weekday  \\\n",
       "0  2016-10-01                 Andrew Kreimer    QTS  02:12:23   02        5   \n",
       "1  2016-10-01  MarketBeat.com (Formerly ARN)    SLF  03:47:49   03        5   \n",
       "2  2016-10-01                 Ben Silverberg   DECK  08:58:31   08        5   \n",
       "3  2016-10-01                 Ben Silverberg   ENDP  08:58:31   08        5   \n",
       "4  2016-10-01                 Ben Silverberg    DFT  08:58:31   08        5   \n",
       "\n",
       "                                title  tweet_id user_id              user_name  \n",
       "0                    QTS Realty Trust  63822111  784233               algonell  \n",
       "1             Sun Life Financial Inc.  63824307  284225  AnalystRatingsNetwork  \n",
       "2               Deckers Outdoor Corp.  63827014    2843             silverjet2  \n",
       "3  Endo Pharmaceuticals Holdings Inc.  63827014    2843             silverjet2  \n",
       "4      DuPont Fabros Technology, Inc.  63827014    2843             silverjet2  "
      ]
     },
     "execution_count": 642,
     "metadata": {},
     "output_type": "execute_result"
    }
   ],
   "source": [
    "#df = pd.read_csv(\"stocktwits_df.csv\", encoding=\"utf8\")  \n",
    "\n",
    "df = df.groupby(\"symbol\").apply(fill_dataframe)\n",
    "df[\"hour\"] = [s.split(\":\")[0] for s in df[\"time\"]]\n",
    "df = df[df.date > \"2016-09-31\"].reset_index()\n",
    "df[\"count\"] = df.groupby([\"symbol\"])[\"user_name\"].transform(\"count\")\n",
    "df[[\"date\",\"name\",\"symbol\",\"time\",\"hour\",\"weekday\",\"title\",\"tweet_id\",\"user_id\",\"user_name\"]].head()"
   ]
  },
  {
   "cell_type": "code",
   "execution_count": 643,
   "metadata": {
    "collapsed": false
   },
   "outputs": [
    {
     "data": {
      "text/plain": [
       "17088"
      ]
     },
     "execution_count": 643,
     "metadata": {},
     "output_type": "execute_result"
    }
   ],
   "source": [
    "df.shape[0]"
   ]
  },
  {
   "cell_type": "code",
   "execution_count": 644,
   "metadata": {
    "collapsed": false
   },
   "outputs": [
    {
     "data": {
      "image/png": "[encoded data removed]",
      "text/plain": [
       "<matplotlib.figure.Figure at 0x2df2d74d0b8>"
      ]
     },
     "metadata": {},
     "output_type": "display_data"
    }
   ],
   "source": [
    "counts = df.groupby(\"date\")[\"tweet_id\"].nunique()\n",
    "counts.sort_index(ascending=True, inplace=True)\n",
    "counts.plot(kind=\"bar\", title=\"Number of tweets per day\");"
   ]
  },
  {
   "cell_type": "code",
   "execution_count": 645,
   "metadata": {
    "collapsed": false
   },
   "outputs": [
    {
     "data": {
      "image/png": "[encoded data removed]",
      "text/plain": [
       "<matplotlib.figure.Figure at 0x2df2ea92c50>"
      ]
     },
     "metadata": {},
     "output_type": "display_data"
    }
   ],
   "source": [
    "counts = df.groupby(\"date\")[\"symbol\"].nunique()\n",
    "counts.sort_index(ascending=True, inplace=True)\n",
    "counts.plot(kind=\"bar\", title=\"Number of unique symbols per day\");"
   ]
  },
  {
   "cell_type": "code",
   "execution_count": 646,
   "metadata": {
    "collapsed": false
   },
   "outputs": [
    {
     "name": "stdout",
     "output_type": "stream",
     "text": [
      "dict_keys(['2016-10-13', '2016-10-20', '2016-10-17', '2016-10-05', '2016-10-25', '2016-10-18', '2016-10-19', '2016-10-22', '2016-10-15', '2016-10-09', '2016-10-24', '2016-10-06', '2016-10-03', '2016-10-27', '2016-10-23', '2016-10-11', '2016-10-12', '2016-10-07', '2016-10-01', '2016-10-10', '2016-10-16', '2016-10-14', '2016-10-26', '2016-10-21', '2016-10-04', '2016-10-02', '2016-10-08'])\n"
     ]
    }
   ],
   "source": [
    "#Create a {\"date\": dataframe} dictionary\n",
    "#Select only tweets sent on weekdays (Monday to Friday)\n",
    "dataframes = {}\n",
    "for date in df[\"date\"].unique():\n",
    "    dataframes[date] = clean_dataframe(df[(df[\"date\"]==date) & (df[\"weekday\"].values < 5)]).reset_index(drop=True)\n",
    "    \n",
    "print(dataframes.keys())"
   ]
  },
  {
   "cell_type": "code",
   "execution_count": 647,
   "metadata": {
    "collapsed": false
   },
   "outputs": [
    {
     "data": {
      "text/html": [
       "<div>\n",
       "<table border=\"1\" class=\"dataframe\">\n",
       "  <thead>\n",
       "    <tr style=\"text-align: right;\">\n",
       "      <th></th>\n",
       "      <th>name</th>\n",
       "      <th>date</th>\n",
       "      <th>symbol</th>\n",
       "      <th>time</th>\n",
       "      <th>hour</th>\n",
       "      <th>weekday</th>\n",
       "      <th>title</th>\n",
       "      <th>tweet_id</th>\n",
       "      <th>user_id</th>\n",
       "      <th>user_name</th>\n",
       "    </tr>\n",
       "  </thead>\n",
       "  <tbody>\n",
       "    <tr>\n",
       "      <th>0</th>\n",
       "      <td>Andrew Kreimer</td>\n",
       "      <td>2016-10-01</td>\n",
       "      <td>QTS</td>\n",
       "      <td>02:12:23</td>\n",
       "      <td>02</td>\n",
       "      <td>5</td>\n",
       "      <td>QTS Realty Trust</td>\n",
       "      <td>63822111</td>\n",
       "      <td>784233</td>\n",
       "      <td>algonell</td>\n",
       "    </tr>\n",
       "    <tr>\n",
       "      <th>1</th>\n",
       "      <td>MarketBeat.com (Formerly ARN)</td>\n",
       "      <td>2016-10-01</td>\n",
       "      <td>SLF</td>\n",
       "      <td>03:47:49</td>\n",
       "      <td>03</td>\n",
       "      <td>5</td>\n",
       "      <td>Sun Life Financial Inc.</td>\n",
       "      <td>63824307</td>\n",
       "      <td>284225</td>\n",
       "      <td>AnalystRatingsNetwork</td>\n",
       "    </tr>\n",
       "    <tr>\n",
       "      <th>2</th>\n",
       "      <td>Ben Silverberg</td>\n",
       "      <td>2016-10-01</td>\n",
       "      <td>DECK</td>\n",
       "      <td>08:58:31</td>\n",
       "      <td>08</td>\n",
       "      <td>5</td>\n",
       "      <td>Deckers Outdoor Corp.</td>\n",
       "      <td>63827014</td>\n",
       "      <td>2843</td>\n",
       "      <td>silverjet2</td>\n",
       "    </tr>\n",
       "    <tr>\n",
       "      <th>3</th>\n",
       "      <td>Ben Silverberg</td>\n",
       "      <td>2016-10-01</td>\n",
       "      <td>ENDP</td>\n",
       "      <td>08:58:31</td>\n",
       "      <td>08</td>\n",
       "      <td>5</td>\n",
       "      <td>Endo Pharmaceuticals Holdings Inc.</td>\n",
       "      <td>63827014</td>\n",
       "      <td>2843</td>\n",
       "      <td>silverjet2</td>\n",
       "    </tr>\n",
       "    <tr>\n",
       "      <th>4</th>\n",
       "      <td>Ben Silverberg</td>\n",
       "      <td>2016-10-01</td>\n",
       "      <td>DFT</td>\n",
       "      <td>08:58:31</td>\n",
       "      <td>08</td>\n",
       "      <td>5</td>\n",
       "      <td>DuPont Fabros Technology, Inc.</td>\n",
       "      <td>63827014</td>\n",
       "      <td>2843</td>\n",
       "      <td>silverjet2</td>\n",
       "    </tr>\n",
       "  </tbody>\n",
       "</table>\n",
       "</div>"
      ],
      "text/plain": [
       "                            name        date symbol      time hour  weekday  \\\n",
       "0                 Andrew Kreimer  2016-10-01    QTS  02:12:23   02        5   \n",
       "1  MarketBeat.com (Formerly ARN)  2016-10-01    SLF  03:47:49   03        5   \n",
       "2                 Ben Silverberg  2016-10-01   DECK  08:58:31   08        5   \n",
       "3                 Ben Silverberg  2016-10-01   ENDP  08:58:31   08        5   \n",
       "4                 Ben Silverberg  2016-10-01    DFT  08:58:31   08        5   \n",
       "\n",
       "                                title  tweet_id user_id              user_name  \n",
       "0                    QTS Realty Trust  63822111  784233               algonell  \n",
       "1             Sun Life Financial Inc.  63824307  284225  AnalystRatingsNetwork  \n",
       "2               Deckers Outdoor Corp.  63827014    2843             silverjet2  \n",
       "3  Endo Pharmaceuticals Holdings Inc.  63827014    2843             silverjet2  \n",
       "4      DuPont Fabros Technology, Inc.  63827014    2843             silverjet2  "
      ]
     },
     "execution_count": 647,
     "metadata": {},
     "output_type": "execute_result"
    }
   ],
   "source": [
    "#df2 = dataframes[\"2016-10-25\"]\n",
    "df2 = df\n",
    "df2[[\"name\",\"date\",\"symbol\",\"time\",\"hour\",\"weekday\",\"title\",\"tweet_id\",\"user_id\",\"user_name\"]].head()"
   ]
  },
  {
   "cell_type": "code",
   "execution_count": 648,
   "metadata": {
    "collapsed": false
   },
   "outputs": [
    {
     "data": {
      "image/png": "[encoded data removed]",
      "text/plain": [
       "<matplotlib.figure.Figure at 0x2df2f9be4a8>"
      ]
     },
     "metadata": {},
     "output_type": "display_data"
    }
   ],
   "source": [
    "counts = df2.groupby(\"hour\")[\"tweet_id\"].nunique()\n",
    "counts.sort_index(ascending=True, inplace=True)\n",
    "counts.plot(kind=\"bar\", rot=0, title=\"Number of tweets by hour\");"
   ]
  },
  {
   "cell_type": "code",
   "execution_count": 649,
   "metadata": {
    "collapsed": false
   },
   "outputs": [
    {
     "data": {
      "image/png": "[encoded data removed]",
      "text/plain": [
       "<matplotlib.figure.Figure at 0x2df2f869978>"
      ]
     },
     "metadata": {},
     "output_type": "display_data"
    }
   ],
   "source": [
    "counts = df.groupby(\"hour\")[\"symbol\"].nunique()\n",
    "counts.sort_index(ascending=True, inplace=True)\n",
    "counts.plot(kind=\"bar\", title=\"Number of unique symbols per hour\");"
   ]
  },
  {
   "cell_type": "code",
   "execution_count": 650,
   "metadata": {
    "collapsed": false,
    "scrolled": true
   },
   "outputs": [
    {
     "data": {
      "image/png": "[encoded data removed]",
      "text/plain": [
       "<matplotlib.figure.Figure at 0x2df2f9ac6d8>"
      ]
     },
     "metadata": {},
     "output_type": "display_data"
    }
   ],
   "source": [
    "counts = df2.groupby(\"sector\")[\"tweet_id\"].nunique()\n",
    "counts.sort_index(ascending=True, inplace=True)\n",
    "counts.plot(kind=\"bar\", title=\"Number of tweets by sector\");"
   ]
  },
  {
   "cell_type": "code",
   "execution_count": 661,
   "metadata": {
    "collapsed": false
   },
   "outputs": [],
   "source": [
    "network = nx.Graph()\n",
    "network.add_nodes_from(df2[\"symbol\"].values)\n",
    "sector = df[\"sector\"].values\n",
    "nx.set_node_attributes(network, \"sector\", sector)\n",
    "\n",
    "#create a dictionary of {tweet_id : [symbols]}\n",
    "dict1 = {}\n",
    "rdf = df2.groupby(\"tweet_id\")\n",
    "for tweet_id in list(set(df2.tweet_id.values)):\n",
    "    dict1[tweet_id] = list(rdf.get_group(tweet_id).symbol.values) \n",
    "\n",
    "#Create and save the weighted graph for use in Gephi\n",
    "for key, value in dict1.items():\n",
    "    for tup in list(itertools.combinations(value, 2)):        \n",
    "        source = tup[0]\n",
    "        target = tup[1] \n",
    "        if source != target:\n",
    "            if network.has_edge(source, target) == True:            \n",
    "                network[source][target][\"weight\"] += 1\n",
    "            else:\n",
    "                network.add_edge(source, target, weight=1, key=str(key))"
   ]
  },
  {
   "cell_type": "code",
   "execution_count": 659,
   "metadata": {
    "collapsed": false
   },
   "outputs": [
    {
     "data": {
      "text/plain": [
       "array(['Technology', 'Technology', 'Technology', ..., 'Technology',\n",
       "       'Technology', 'Technology'], dtype=object)"
      ]
     },
     "execution_count": 659,
     "metadata": {},
     "output_type": "execute_result"
    }
   ],
   "source": [
    "df2[df[\"symbol\"]==\"AAPL\"].sector.values"
   ]
  },
  {
   "cell_type": "code",
   "execution_count": 653,
   "metadata": {
    "collapsed": false
   },
   "outputs": [
    {
     "data": {
      "image/png": "[encoded data removed]",
      "text/plain": [
       "<matplotlib.figure.Figure at 0x2df2fa6aa58>"
      ]
     },
     "metadata": {},
     "output_type": "display_data"
    }
   ],
   "source": [
    "N = len(network.nodes())\n",
    "matrix = [[0] * N] * N\n",
    "for i in range(N):\n",
    "    for j in range(N):\n",
    "        if network.has_edge(i, j):\n",
    "            matrix[i][j] = network[i][j][\"weight\"]\n",
    "        \n",
    "plt.imshow(matrix, cmap=\"hot\", interpolation=\"nearest\")\n",
    "plt.show()"
   ]
  },
  {
   "cell_type": "code",
   "execution_count": 654,
   "metadata": {
    "collapsed": false
   },
   "outputs": [
    {
     "name": "stdout",
     "output_type": "stream",
     "text": [
      "\n",
      "N : 1624 \n",
      "L : 20797 \n",
      "Minimum degree : 0 \n",
      "Maximum degree : 300 \n",
      "Average degree : 25.6120689655\n"
     ]
    }
   ],
   "source": [
    "get_network_measures(network)"
   ]
  },
  {
   "cell_type": "code",
   "execution_count": 655,
   "metadata": {
    "collapsed": false
   },
   "outputs": [],
   "source": [
    "remove = [(source, target) for source, target in network.edges_iter() if network[source][target][\"weight\"] < 1]\n",
    "network.remove_edges_from(remove)\n",
    "\n",
    "remove = [node for node in network.degree() if network.degree()[node] == 0]\n",
    "network.remove_nodes_from(remove)\n",
    "\n",
    "for source, target in network.edges_iter():\n",
    "    network[source][target][\"weight\"] = 1"
   ]
  },
  {
   "cell_type": "code",
   "execution_count": 656,
   "metadata": {
    "collapsed": false
   },
   "outputs": [
    {
     "name": "stdout",
     "output_type": "stream",
     "text": [
      "\n",
      "N : 1623 \n",
      "L : 20797 \n",
      "Minimum degree : 1 \n",
      "Maximum degree : 300 \n",
      "Average degree : 25.6278496611\n"
     ]
    }
   ],
   "source": [
    "get_network_measures(network)"
   ]
  },
  {
   "cell_type": "code",
   "execution_count": 657,
   "metadata": {
    "collapsed": false
   },
   "outputs": [
    {
     "ename": "ValueError",
     "evalue": "too many values to unpack (expected 3)",
     "output_type": "error",
     "traceback": [
      "\u001b[1;31m---------------------------------------------------------------------------\u001b[0m",
      "\u001b[1;31mValueError\u001b[0m                                Traceback (most recent call last)",
      "\u001b[1;32m<ipython-input-657-0c5074c7c521>\u001b[0m in \u001b[0;36m<module>\u001b[1;34m()\u001b[0m\n\u001b[0;32m     11\u001b[0m \u001b[1;33m\u001b[0m\u001b[0m\n\u001b[0;32m     12\u001b[0m \u001b[0mnx\u001b[0m\u001b[1;33m.\u001b[0m\u001b[0mset_node_attributes\u001b[0m\u001b[1;33m(\u001b[0m\u001b[0mnetwork\u001b[0m\u001b[1;33m,\u001b[0m \u001b[1;34m\"Title\"\u001b[0m\u001b[1;33m,\u001b[0m \u001b[0mtitles\u001b[0m\u001b[1;33m)\u001b[0m\u001b[1;33m\u001b[0m\u001b[0m\n\u001b[1;32m---> 13\u001b[1;33m \u001b[0mnx\u001b[0m\u001b[1;33m.\u001b[0m\u001b[0mwrite_gexf\u001b[0m\u001b[1;33m(\u001b[0m\u001b[0mnetwork\u001b[0m\u001b[1;33m,\u001b[0m \u001b[1;34m\"symbol_graph.gexf\"\u001b[0m\u001b[1;33m)\u001b[0m\u001b[1;33m\u001b[0m\u001b[0m\n\u001b[0m",
      "\u001b[1;32m<decorator-gen-330>\u001b[0m in \u001b[0;36mwrite_gexf\u001b[1;34m(G, path, encoding, prettyprint, version)\u001b[0m\n",
      "\u001b[1;32mC:\\Anaconda3\\lib\\site-packages\\networkx\\utils\\decorators.py\u001b[0m in \u001b[0;36m_open_file\u001b[1;34m(func, *args, **kwargs)\u001b[0m\n\u001b[0;32m    218\u001b[0m         \u001b[1;31m# Finally, we call the original function, making sure to close the fobj.\u001b[0m\u001b[1;33m\u001b[0m\u001b[1;33m\u001b[0m\u001b[0m\n\u001b[0;32m    219\u001b[0m         \u001b[1;32mtry\u001b[0m\u001b[1;33m:\u001b[0m\u001b[1;33m\u001b[0m\u001b[0m\n\u001b[1;32m--> 220\u001b[1;33m             \u001b[0mresult\u001b[0m \u001b[1;33m=\u001b[0m \u001b[0mfunc\u001b[0m\u001b[1;33m(\u001b[0m\u001b[1;33m*\u001b[0m\u001b[0mnew_args\u001b[0m\u001b[1;33m,\u001b[0m \u001b[1;33m**\u001b[0m\u001b[0mkwargs\u001b[0m\u001b[1;33m)\u001b[0m\u001b[1;33m\u001b[0m\u001b[0m\n\u001b[0m\u001b[0;32m    221\u001b[0m         \u001b[1;32mfinally\u001b[0m\u001b[1;33m:\u001b[0m\u001b[1;33m\u001b[0m\u001b[0m\n\u001b[0;32m    222\u001b[0m             \u001b[1;32mif\u001b[0m \u001b[0mclose_fobj\u001b[0m\u001b[1;33m:\u001b[0m\u001b[1;33m\u001b[0m\u001b[0m\n",
      "\u001b[1;32mC:\\Anaconda3\\lib\\site-packages\\networkx\\readwrite\\gexf.py\u001b[0m in \u001b[0;36mwrite_gexf\u001b[1;34m(G, path, encoding, prettyprint, version)\u001b[0m\n\u001b[0;32m     75\u001b[0m     writer = GEXFWriter(encoding=encoding,prettyprint=prettyprint,\n\u001b[0;32m     76\u001b[0m                         version=version)\n\u001b[1;32m---> 77\u001b[1;33m     \u001b[0mwriter\u001b[0m\u001b[1;33m.\u001b[0m\u001b[0madd_graph\u001b[0m\u001b[1;33m(\u001b[0m\u001b[0mG\u001b[0m\u001b[1;33m)\u001b[0m\u001b[1;33m\u001b[0m\u001b[0m\n\u001b[0m\u001b[0;32m     78\u001b[0m     \u001b[0mwriter\u001b[0m\u001b[1;33m.\u001b[0m\u001b[0mwrite\u001b[0m\u001b[1;33m(\u001b[0m\u001b[0mpath\u001b[0m\u001b[1;33m)\u001b[0m\u001b[1;33m\u001b[0m\u001b[0m\n\u001b[0;32m     79\u001b[0m \u001b[1;33m\u001b[0m\u001b[0m\n",
      "\u001b[1;32mC:\\Anaconda3\\lib\\site-packages\\networkx\\readwrite\\gexf.py\u001b[0m in \u001b[0;36madd_graph\u001b[1;34m(self, G)\u001b[0m\n\u001b[0;32m    297\u001b[0m         \u001b[0mgraph_element\u001b[0m \u001b[1;33m=\u001b[0m \u001b[0mElement\u001b[0m\u001b[1;33m(\u001b[0m\u001b[1;34m\"graph\"\u001b[0m\u001b[1;33m,\u001b[0m\u001b[0mdefaultedgetype\u001b[0m\u001b[1;33m=\u001b[0m\u001b[0mdefault\u001b[0m\u001b[1;33m,\u001b[0m\u001b[0mmode\u001b[0m\u001b[1;33m=\u001b[0m\u001b[0mmode\u001b[0m\u001b[1;33m)\u001b[0m\u001b[1;33m\u001b[0m\u001b[0m\n\u001b[0;32m    298\u001b[0m         \u001b[0mself\u001b[0m\u001b[1;33m.\u001b[0m\u001b[0mgraph_element\u001b[0m\u001b[1;33m=\u001b[0m\u001b[0mgraph_element\u001b[0m\u001b[1;33m\u001b[0m\u001b[0m\n\u001b[1;32m--> 299\u001b[1;33m         \u001b[0mself\u001b[0m\u001b[1;33m.\u001b[0m\u001b[0madd_nodes\u001b[0m\u001b[1;33m(\u001b[0m\u001b[0mG\u001b[0m\u001b[1;33m,\u001b[0m\u001b[0mgraph_element\u001b[0m\u001b[1;33m)\u001b[0m\u001b[1;33m\u001b[0m\u001b[0m\n\u001b[0m\u001b[0;32m    300\u001b[0m         \u001b[0mself\u001b[0m\u001b[1;33m.\u001b[0m\u001b[0madd_edges\u001b[0m\u001b[1;33m(\u001b[0m\u001b[0mG\u001b[0m\u001b[1;33m,\u001b[0m\u001b[0mgraph_element\u001b[0m\u001b[1;33m)\u001b[0m\u001b[1;33m\u001b[0m\u001b[0m\n\u001b[0;32m    301\u001b[0m         \u001b[0mself\u001b[0m\u001b[1;33m.\u001b[0m\u001b[0mxml\u001b[0m\u001b[1;33m.\u001b[0m\u001b[0mappend\u001b[0m\u001b[1;33m(\u001b[0m\u001b[0mgraph_element\u001b[0m\u001b[1;33m)\u001b[0m\u001b[1;33m\u001b[0m\u001b[0m\n",
      "\u001b[1;32mC:\\Anaconda3\\lib\\site-packages\\networkx\\readwrite\\gexf.py\u001b[0m in \u001b[0;36madd_nodes\u001b[1;34m(self, G, graph_element)\u001b[0m\n\u001b[0;32m    328\u001b[0m             \u001b[0mnode_data\u001b[0m\u001b[1;33m=\u001b[0m\u001b[0mself\u001b[0m\u001b[1;33m.\u001b[0m\u001b[0madd_viz\u001b[0m\u001b[1;33m(\u001b[0m\u001b[0mnode_element\u001b[0m\u001b[1;33m,\u001b[0m\u001b[0mnode_data\u001b[0m\u001b[1;33m)\u001b[0m\u001b[1;33m\u001b[0m\u001b[0m\n\u001b[0;32m    329\u001b[0m             node_data=self.add_attributes(\"node\", node_element,\n\u001b[1;32m--> 330\u001b[1;33m                                           node_data, default)\n\u001b[0m\u001b[0;32m    331\u001b[0m             \u001b[0mnodes_element\u001b[0m\u001b[1;33m.\u001b[0m\u001b[0mappend\u001b[0m\u001b[1;33m(\u001b[0m\u001b[0mnode_element\u001b[0m\u001b[1;33m)\u001b[0m\u001b[1;33m\u001b[0m\u001b[0m\n\u001b[0;32m    332\u001b[0m         \u001b[0mgraph_element\u001b[0m\u001b[1;33m.\u001b[0m\u001b[0mappend\u001b[0m\u001b[1;33m(\u001b[0m\u001b[0mnodes_element\u001b[0m\u001b[1;33m)\u001b[0m\u001b[1;33m\u001b[0m\u001b[0m\n",
      "\u001b[1;32mC:\\Anaconda3\\lib\\site-packages\\networkx\\readwrite\\gexf.py\u001b[0m in \u001b[0;36madd_attributes\u001b[1;34m(self, node_or_edge, xml_obj, data, default)\u001b[0m\n\u001b[0;32m    407\u001b[0m             \u001b[1;32mif\u001b[0m \u001b[0mtype\u001b[0m\u001b[1;33m(\u001b[0m\u001b[0mv\u001b[0m\u001b[1;33m)\u001b[0m\u001b[1;33m==\u001b[0m\u001b[0mlist\u001b[0m\u001b[1;33m:\u001b[0m\u001b[1;33m\u001b[0m\u001b[0m\n\u001b[0;32m    408\u001b[0m                 \u001b[1;31m# dynamic data\u001b[0m\u001b[1;33m\u001b[0m\u001b[1;33m\u001b[0m\u001b[0m\n\u001b[1;32m--> 409\u001b[1;33m                 \u001b[1;32mfor\u001b[0m \u001b[0mval\u001b[0m\u001b[1;33m,\u001b[0m\u001b[0mstart\u001b[0m\u001b[1;33m,\u001b[0m\u001b[0mend\u001b[0m \u001b[1;32min\u001b[0m \u001b[0mv\u001b[0m\u001b[1;33m:\u001b[0m\u001b[1;33m\u001b[0m\u001b[0m\n\u001b[0m\u001b[0;32m    410\u001b[0m                     \u001b[0mval_type\u001b[0m \u001b[1;33m=\u001b[0m \u001b[0mtype\u001b[0m\u001b[1;33m(\u001b[0m\u001b[0mval\u001b[0m\u001b[1;33m)\u001b[0m\u001b[1;33m\u001b[0m\u001b[0m\n\u001b[0;32m    411\u001b[0m                     \u001b[1;32mif\u001b[0m \u001b[0mstart\u001b[0m \u001b[1;32mis\u001b[0m \u001b[1;32mnot\u001b[0m \u001b[1;32mNone\u001b[0m \u001b[1;32mor\u001b[0m \u001b[0mend\u001b[0m \u001b[1;32mis\u001b[0m \u001b[1;32mnot\u001b[0m \u001b[1;32mNone\u001b[0m\u001b[1;33m:\u001b[0m\u001b[1;33m\u001b[0m\u001b[0m\n",
      "\u001b[1;31mValueError\u001b[0m: too many values to unpack (expected 3)"
     ]
    }
   ],
   "source": [
    "#Add node attributes \n",
    "nodes  = []\n",
    "titles = {}\n",
    "degrees = network.degree()\n",
    "\n",
    "for node in network.nodes():\n",
    "    titles[node] = df2[\"title\"][df2.symbol==node].values[0]\n",
    "    title = df2[\"title\"][df2.symbol==node].values[0]\n",
    "    industry = symbol_title[\"industry\"][symbol_title.symbol==node].values\n",
    "    nodes.append({\"name\": node, \"title\": title, \"industry\": industry, \"degree\": degrees[node]})\n",
    "\n",
    "nx.set_node_attributes(network, \"Title\", titles)\n",
    "nx.write_gexf(network, \"symbol_graph.gexf\")"
   ]
  },
  {
   "cell_type": "code",
   "execution_count": null,
   "metadata": {
    "collapsed": false
   },
   "outputs": [],
   "source": [
    "measures  = pd.DataFrame(index=network.nodes())\n",
    "page_ranks = nx.pagerank(network)\n",
    "btwns_clty = nx.betweenness_centrality(network)\n",
    "\n",
    "measures[\"degree\"] = [degrees[node] for node in measures.index]\n",
    "measures[\"pagerank\"] = [page_ranks[node] for node in measures.index]\n",
    "measures[\"betweenness_centrality\"] = [btwns_clty[node] for node in measures.index]\n",
    "\n",
    "scaler = preprocessing.MinMaxScaler()\n",
    "measures[[\"degree\",\"pagerank\",\"betweenness_centrality\"]] = scaler.fit_transform(measures)\n",
    "measures.sort_values([\"degree\"], ascending=False, inplace=True)\n",
    "measures[0:50].plot(kind=\"line\", rot=90, marker=\"o\", xticks=range(50));"
   ]
  },
  {
   "cell_type": "code",
   "execution_count": null,
   "metadata": {
    "collapsed": false
   },
   "outputs": [],
   "source": [
    "mst = nx.minimum_spanning_tree(network, \"weight\")\n",
    "nx.write_gexf(mst, \"mst_symbol_graph.gexf\")"
   ]
  },
  {
   "cell_type": "code",
   "execution_count": null,
   "metadata": {
    "collapsed": false
   },
   "outputs": [],
   "source": [
    "#save the unweighted graph for use in R\n",
    "data = []\n",
    "node_list = list(network.nodes())\n",
    "\n",
    "for (source, target) in network.edges():\n",
    "    data.append({\"value\": 1.0, \n",
    "                 \"id\": network[source][target][\"key\"],\n",
    "                 \"source\": node_list.index(source), \n",
    "                 \"target\": node_list.index(target)\n",
    "                })    \n",
    "\n",
    "links = pd.DataFrame(data)\n",
    "nodes = pd.DataFrame(nodes)\n",
    "links.to_csv(\"Rlinks.csv\", index=False, encoding=\"utf-8\")\n",
    "nodes.to_csv(\"Rnodes.csv\", index=False, encoding=\"utf-8\")"
   ]
  },
  {
   "cell_type": "code",
   "execution_count": null,
   "metadata": {
    "collapsed": false
   },
   "outputs": [],
   "source": [
    "log_binning_plot(values=list(degrees.values()), title=\"Degree distribution\")"
   ]
  },
  {
   "cell_type": "code",
   "execution_count": null,
   "metadata": {
    "collapsed": false
   },
   "outputs": [],
   "source": [
    "clique_size = pd.DataFrame([{\"clique_size\": len(x)} for x in nx.find_cliques(network)])\n",
    "clique_size.groupby(\"clique_size\")[\"clique_size\"].count().plot(kind=\"bar\");"
   ]
  }
 ],
 "metadata": {
  "kernelspec": {
   "display_name": "Python 3",
   "language": "python",
   "name": "python3"
  },
  "language_info": {
   "codemirror_mode": {
    "name": "ipython",
    "version": 3
   },
   "file_extension": ".py",
   "mimetype": "text/x-python",
   "name": "python",
   "nbconvert_exporter": "python",
   "pygments_lexer": "ipython3",
   "version": "3.5.1"
  }
 },
 "nbformat": 4,
 "nbformat_minor": 0
}
